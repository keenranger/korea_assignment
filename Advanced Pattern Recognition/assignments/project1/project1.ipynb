{
 "cells": [
  {
   "cell_type": "markdown",
   "metadata": {},
   "source": [
    "# Import necessary libraries"
   ]
  },
  {
   "cell_type": "code",
   "execution_count": 1,
   "metadata": {
    "scrolled": true
   },
   "outputs": [],
   "source": [
    "import pandas as pd\n",
    "import numpy as np\n",
    "import matplotlib.pyplot as plt\n",
    "import struct\n",
    "from sklearn.svm import SVC\n",
    "from scipy.linalg import eigh\n",
    "from sklearn.preprocessing import StandardScaler\n",
    "from array import array\n",
    "from os.path  import join"
   ]
  },
  {
   "cell_type": "markdown",
   "metadata": {},
   "source": [
    "# Make custom dataloader to load dataset"
   ]
  },
  {
   "cell_type": "code",
   "execution_count": 2,
   "metadata": {},
   "outputs": [],
   "source": [
    "class MnistDataloader(object):\n",
    "    def __init__(self, training_images_filepath,training_labels_filepath,\n",
    "                 test_images_filepath, test_labels_filepath):\n",
    "        self.training_images_filepath = training_images_filepath\n",
    "        self.training_labels_filepath = training_labels_filepath\n",
    "        self.test_images_filepath = test_images_filepath\n",
    "        self.test_labels_filepath = test_labels_filepath\n",
    "    \n",
    "    def read_images_labels(self, images_filepath, labels_filepath):        \n",
    "        labels = []\n",
    "        with open(labels_filepath, 'rb') as file:\n",
    "            magic, size = struct.unpack(\">II\", file.read(8))\n",
    "            if magic != 2049:\n",
    "                raise ValueError('Magic number mismatch, expected 2049, got {}'.format(magic))\n",
    "            labels = array(\"B\", file.read())        \n",
    "        \n",
    "        with open(images_filepath, 'rb') as file:\n",
    "            magic, size, rows, cols = struct.unpack(\">IIII\", file.read(16))\n",
    "            if magic != 2051:\n",
    "                raise ValueError('Magic number mismatch, expected 2051, got {}'.format(magic))\n",
    "            image_data = array(\"B\", file.read())        \n",
    "        images = []\n",
    "        for i in range(size):\n",
    "            images.append([0] * rows * cols)\n",
    "        for i in range(size):\n",
    "            img = np.array(image_data[i * rows * cols:(i + 1) * rows * cols])\n",
    "            img = img.reshape(28, 28)\n",
    "            images[i][:] = img            \n",
    "        \n",
    "        return images, labels\n",
    "            \n",
    "    def load_data(self):\n",
    "        x_train, y_train = self.read_images_labels(self.training_images_filepath, self.training_labels_filepath)\n",
    "        x_test, y_test = self.read_images_labels(self.test_images_filepath, self.test_labels_filepath)\n",
    "        return (x_train, y_train),(x_test, y_test)     "
   ]
  },
  {
   "cell_type": "markdown",
   "metadata": {},
   "source": [
    "# 1. Load dataset"
   ]
  },
  {
   "cell_type": "code",
   "execution_count": 3,
   "metadata": {},
   "outputs": [
    {
     "name": "stdout",
     "output_type": "stream",
     "text": [
      "(60000, 28, 28) (60000,) (10000, 28, 28) (10000,)\n"
     ]
    }
   ],
   "source": [
    "input_path = './dataset'\n",
    "training_images_filepath = join(input_path, 'train-images.idx3-ubyte')\n",
    "training_labels_filepath = join(input_path, 'train-labels.idx1-ubyte')\n",
    "test_images_filepath = join(input_path, 't10k-images.idx3-ubyte')\n",
    "test_labels_filepath = join(input_path, 't10k-labels.idx1-ubyte')\n",
    "mnist_dataloader = MnistDataloader(training_images_filepath, training_labels_filepath, test_images_filepath, test_labels_filepath)\n",
    "(x_train, y_train), (x_test, y_test) = mnist_dataloader.load_data()\n",
    "x_train = np.array(x_train)\n",
    "y_train = np.array(y_train)\n",
    "x_test = np.array(x_test)\n",
    "y_test = np.array(y_test)\n",
    "print(np.shape(x_train), np.shape(y_train), np.shape(x_test), np.shape(y_test))"
   ]
  },
  {
   "cell_type": "markdown",
   "metadata": {},
   "source": [
    "# Show sample image"
   ]
  },
  {
   "cell_type": "code",
   "execution_count": 4,
   "metadata": {},
   "outputs": [
    {
     "data": {
      "image/png": "[encoded data removed]",
      "text/plain": [
       "<Figure size 432x288 with 1 Axes>"
      ]
     },
     "metadata": {
      "needs_background": "light"
     },
     "output_type": "display_data"
    }
   ],
   "source": [
    "%matplotlib inline\n",
    "random_idx=np.random.randint(100)\n",
    "plt.imshow(x_train[random_idx], cmap = 'gray')\n",
    "plt.show()"
   ]
  },
  {
   "cell_type": "markdown",
   "metadata": {},
   "source": [
    "# 2. Describe steps for PCA\n",
    "1. First, scale the given data to same range (normalize data, mean  =0, variance = 1) You should fit the test data using train scale!\n",
    "2. Calculate covariance matrix, our dataset(28x28) should be converted to 1x28^2 array for calculation\n",
    "3. Using eigenvalue and eigenvector, get eigenvectors that having largest eigenvalue(maybe top n)\n",
    "4. Project normalized x to eigenvector"
   ]
  },
  {
   "cell_type": "markdown",
   "metadata": {},
   "source": [
    "# 3. Write a pseudo-code for 2\n",
    "standardScaler = StandardScaler.fit(x_train) \n",
    "norm_x_train = standardScaler.transform(x_train)  \n",
    "Caluculate covaraince matrix cov by calculating np.matmul(norm_x_train.T, norm_x_train)  \n",
    "Find eigenvalue and eigenvector, and choose how many vector to use  \n",
    "(I personally prefer <5% data loss, which can be calculated by eig_w[0] / sum(eig_w))\n",
    "proj_x_train = np.matmul(eig_vectors, norm_x_train.T)\n",
    "end"
   ]
  },
  {
   "cell_type": "markdown",
   "metadata": {},
   "source": [
    "# 4. Using the results from problem 1 to 3, construct a code that distinguishes 10 classes from 0 to 9 from a given dataset (MNIST) using PCA, so-called hand-writing recognition."
   ]
  },
  {
   "cell_type": "markdown",
   "metadata": {},
   "source": [
    "# Scale given data(normalize)"
   ]
  },
  {
   "cell_type": "code",
   "execution_count": 5,
   "metadata": {},
   "outputs": [
    {
     "name": "stdout",
     "output_type": "stream",
     "text": [
      "-2.1974863349995617e-18 0.9145408163265558 (60000, 784)\n"
     ]
    }
   ],
   "source": [
    "standardScaler = StandardScaler().fit(x_train.reshape(-1,28*28))\n",
    "norm_x_train = standardScaler.transform(x_train.reshape(-1,28*28))\n",
    "print(np.mean(norm_x_train), np.var(norm_x_train), np.shape(norm_x_train))"
   ]
  },
  {
   "cell_type": "markdown",
   "metadata": {},
   "source": [
    "# Calculate covariance matrix"
   ]
  },
  {
   "cell_type": "code",
   "execution_count": 6,
   "metadata": {
    "scrolled": true
   },
   "outputs": [
    {
     "name": "stdout",
     "output_type": "stream",
     "text": [
      "(784, 784)\n"
     ]
    }
   ],
   "source": [
    "cov_mat = np.matmul(norm_x_train.T, norm_x_train)\n",
    "print(np.shape(cov_mat))"
   ]
  },
  {
   "cell_type": "markdown",
   "metadata": {},
   "source": [
    "# Find how many need for dataloss = 5%, It seems use top 10(774~) is reasonable"
   ]
  },
  {
   "cell_type": "code",
   "execution_count": 7,
   "metadata": {},
   "outputs": [
    {
     "name": "stdout",
     "output_type": "stream",
     "text": [
      "idx : 782, data_loss = 0.41936006580180335\n",
      "idx : 781, data_loss = 0.2777241421411718\n",
      "idx : 780, data_loss = 0.17646519086822218\n",
      "idx : 779, data_loss = 0.13359986367311344\n",
      "idx : 778, data_loss = 0.10416730405904916\n",
      "idx : 777, data_loss = 0.08366656754082634\n",
      "idx : 776, data_loss = 0.0705829537498866\n",
      "idx : 775, data_loss = 0.05843718975664753\n",
      "idx : 774, data_loss = 0.050656962405056676\n",
      "idx : 773, data_loss = 0.04624696887980538\n"
     ]
    }
   ],
   "source": [
    "idx = 782\n",
    "data_loss = 1\n",
    "while(data_loss > 0.05):\n",
    "    eig_w, eig_v = eigh(cov_mat, eigvals=(idx, 783))\n",
    "    data_loss = eig_w[0] / np.sum(eig_w)\n",
    "    print(\"idx : \" + str(idx) + \", data_loss = \" + str(data_loss))\n",
    "    idx -= 1"
   ]
  },
  {
   "cell_type": "code",
   "execution_count": 8,
   "metadata": {},
   "outputs": [
    {
     "name": "stdout",
     "output_type": "stream",
     "text": [
      "0.050656962405056676 (784, 10)\n"
     ]
    }
   ],
   "source": [
    "eig_w, eig_v = eigh(cov_mat, eigvals=(774, 783))\n",
    "data_loss = eig_w[0] / np.sum(eig_w)\n",
    "print(data_loss, np.shape(eig_v))"
   ]
  },
  {
   "cell_type": "markdown",
   "metadata": {},
   "source": [
    "# Project train data to eigenvector"
   ]
  },
  {
   "cell_type": "code",
   "execution_count": 9,
   "metadata": {},
   "outputs": [
    {
     "name": "stdout",
     "output_type": "stream",
     "text": [
      "(60000, 10)\n"
     ]
    }
   ],
   "source": [
    "proj_x_train = np.matmul(norm_x_train, eig_v)\n",
    "print(np.shape(proj_x_train))"
   ]
  },
  {
   "cell_type": "markdown",
   "metadata": {},
   "source": [
    "# Here, I will use simple SVM for classification"
   ]
  },
  {
   "cell_type": "code",
   "execution_count": 10,
   "metadata": {},
   "outputs": [
    {
     "data": {
      "text/plain": [
       "SVC()"
      ]
     },
     "execution_count": 10,
     "metadata": {},
     "output_type": "execute_result"
    }
   ],
   "source": [
    "clf = SVC()\n",
    "clf.fit(proj_x_train, y_train)"
   ]
  },
  {
   "cell_type": "markdown",
   "metadata": {},
   "source": [
    "# Normalize and project test data to eigenvector"
   ]
  },
  {
   "cell_type": "code",
   "execution_count": 12,
   "metadata": {},
   "outputs": [
    {
     "name": "stdout",
     "output_type": "stream",
     "text": [
      "0.002495697308915079 0.9161267079815967 (10000, 784)\n",
      "(10000, 10)\n"
     ]
    }
   ],
   "source": [
    "norm_x_test = standardScaler.transform(x_test.reshape(-1,28*28))\n",
    "print(np.mean(norm_x_test), np.var(norm_x_test), np.shape(norm_x_test))\n",
    "proj_x_test = np.matmul(norm_x_test, eig_v)\n",
    "print(np.shape(proj_x_test))"
   ]
  },
  {
   "cell_type": "markdown",
   "metadata": {},
   "source": [
    "# Show accuracy"
   ]
  },
  {
   "cell_type": "code",
   "execution_count": 21,
   "metadata": {},
   "outputs": [
    {
     "name": "stdout",
     "output_type": "stream",
     "text": [
      "train accuracy : 0.9313166666666667\n",
      "test accuracy : 0.9265\n"
     ]
    }
   ],
   "source": [
    "train_correct = np.sum(clf.predict(proj_x_train) == y_train)\n",
    "test_correct = np.sum(clf.predict(proj_x_test) == y_test)\n",
    "train_accuracy = train_correct / np.shape(y_train)[0]\n",
    "test_accuracy = test_correct / np.shape(y_test)[0]\n",
    "print(\"train accuracy : \" + str(train_accuracy))\n",
    "print(\"test accuracy : \" + str(test_accuracy))"
   ]
  },
  {
   "cell_type": "markdown",
   "metadata": {},
   "source": [
    "# Quite good result :) Thank you for reading and Have a good day"
   ]
  }
 ],
 "metadata": {
  "kernelspec": {
   "display_name": "Python 3",
   "language": "python",
   "name": "python3"
  },
  "language_info": {
   "codemirror_mode": {
    "name": "ipython",
    "version": 3
   },
   "file_extension": ".py",
   "mimetype": "text/x-python",
   "name": "python",
   "nbconvert_exporter": "python",
   "pygments_lexer": "ipython3",
   "version": "3.7.7"
  }
 },
 "nbformat": 4,
 "nbformat_minor": 2
}
