{
 "cells": [
  {
   "cell_type": "markdown",
   "metadata": {
    "slideshow": {
     "slide_type": "notes"
    }
   },
   "source": [
    "<div style=\"text-align: right\"> Provided on April 1 and due on April 15 [BRI516, Spring/2020] </div>"
   ]
  },
  {
   "cell_type": "markdown",
   "metadata": {
    "slideshow": {
     "slide_type": "notes"
    }
   },
   "source": [
    "For homework in general:\n",
    "* Install `Anaconda` and create a python environment with `NumPy`, `Pandas`, `Matplotlib`, `scikit-learn` in Python >= 3.5 \n",
    "* Visualize the results of the code as much as possible and add comments/description on the code/results\n",
    "* Please upload your jupyter-notebook file for homework to `Blackboard`"
   ]
  },
  {
   "cell_type": "markdown",
   "metadata": {
    "slideshow": {
     "slide_type": "notes"
    }
   },
   "source": [
    "### [HW#1] Perceptron, logistic regression, and support vector machine\n",
    "\n",
    "1. Load the Iris data ('iris.csv') using Pandas\n"
   ]
  },
  {
   "cell_type": "markdown",
   "metadata": {
    "slideshow": {
     "slide_type": "notes"
    }
   },
   "source": [
    "2. Divide the overall samples (n=150) into 80% for training and 20% for test\n",
    "\n",
    "(a) Using the scikit-learn's `train_test_split` class with a `stratify` option\n",
    "\n",
    "(b) Implement your own class, `my_train_test_split` with a `stratify` option available\n",
    "\n",
    "(c) Compare the results from (a) and (b) \n"
   ]
  },
  {
   "cell_type": "markdown",
   "metadata": {
    "slideshow": {
     "slide_type": "notes"
    }
   },
   "source": [
    "<br>\n",
    "\n",
    "※ In 3~5, either is fine to use train/test sets from 'train_test_split' or 'my_train_test_split'\n",
    "\n",
    "\n",
    "3. Apply the Perceptron model to classfy the three flower classes as good as possible\n",
    "\n",
    "(a) Using the class, `Perceptron` in scikit-learn \n",
    "\n",
    "(b) Using the class, `SGDClassifier` in scikit-learn: implement stochastic gradient algorithm of the Perceptron using the `partial_fit` method of this class for a varying mini-batch sizes (i.e., mini-batch size = 1, 2, 10)\n",
    "\n",
    "(c) Discuss the results from (a) and (b)\n"
   ]
  },
  {
   "cell_type": "markdown",
   "metadata": {
    "slideshow": {
     "slide_type": "notes"
    }
   },
   "source": [
    "<br>\n",
    "\n",
    "4. Apply the logistic regression (LR) model to classfy the three flower classes as good as possible\n",
    "\n",
    "(a) Using the class, `LogisticRegression` in scikit-learn \n",
    "\n",
    "\n",
    "(b) Using the class, `SGDClassifier` in scikit-learn: implement stochastic gradient algorithm of the Perceptron using the `partial_fit` method of this class for a varying mini-batch sizes (i.e., mini-batch size = 1, 2, 10)\n",
    "\n",
    "(c) Discuss the results from (a) and (b)\n"
   ]
  },
  {
   "cell_type": "markdown",
   "metadata": {
    "slideshow": {
     "slide_type": "notes"
    }
   },
   "source": [
    "<br>\n",
    "\n",
    "5. Apply the support vector machine (SVM) model to classfy the three flower classes as good as possible\n",
    "\n",
    "(a) Using the class, `SVC` in scikit-learn \n",
    "\n",
    "\n",
    "(b) Using the class, `SGDClassifier` in scikit-learn: implement stochastic gradient algorithm of the Perceptron using the `partial_fit` method of this class for a varying mini-batch sizes (i.e., mini-batch size = 1, 2, 10)\n",
    "\n",
    "(c) Discuss the results from (a) and (b)\n"
   ]
  },
  {
   "cell_type": "markdown",
   "metadata": {
    "slideshow": {
     "slide_type": "notes"
    }
   },
   "source": [
    "<br>\n",
    "\n",
    "6. Discuss the results from (3) to (5)"
   ]
  },
  {
   "cell_type": "markdown",
   "metadata": {
    "slideshow": {
     "slide_type": "notes"
    }
   },
   "source": [
    "Notes:\n",
    "* Students are supposed to set hyperparams (such as number of epochs) on their own\n",
    "* For each of the classification tests, show the following: <br>\n",
    "(a) learning curves (along epochs) of the cost/error from the training and test data where applicable <br>\n",
    "(b) learning curves (along epochs) of average weight update term for each epoch (i.e., $\\Delta w$) <br>\n",
    "(c) decision boundary of the trained model along with training and test samples in the scatter plot\n",
    "\n",
    "* Draw plots using matplotlib\n",
    "\n",
    "* Please discuss each of your results with at least few lines of text"
   ]
  }
 ],
 "metadata": {
  "kernelspec": {
   "display_name": "Python 3",
   "language": "python",
   "name": "python3"
  },
  "language_info": {
   "codemirror_mode": {
    "name": "ipython",
    "version": 3
   },
   "file_extension": ".py",
   "mimetype": "text/x-python",
   "name": "python",
   "nbconvert_exporter": "python",
   "pygments_lexer": "ipython3",
   "version": "3.7.4"
  }
 },
 "nbformat": 4,
 "nbformat_minor": 4
}
