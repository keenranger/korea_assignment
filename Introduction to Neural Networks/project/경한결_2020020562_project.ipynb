{
 "cells": [
  {
   "cell_type": "markdown",
   "metadata": {},
   "source": [
    "# Import base libraries"
   ]
  },
  {
   "cell_type": "code",
   "execution_count": 1,
   "metadata": {},
   "outputs": [],
   "source": [
    "import numpy as np\n",
    "import pandas as pd\n",
    "import matplotlib.pyplot as plt\n",
    "import torch\n",
    "import torch.nn as nn\n",
    "import torch.nn.functional as F\n"
   ]
  },
  {
   "cell_type": "markdown",
   "metadata": {},
   "source": [
    "# Read Dota2 match data from csv file"
   ]
  },
  {
   "cell_type": "code",
   "execution_count": 2,
   "metadata": {},
   "outputs": [
    {
     "output_type": "execute_result",
     "data": {
      "text/plain": "   camps_stacked  denies  last_hits  assists  deaths  kills    match_id  \\\n0             33       4         56       21       5      2  5465684523   \n1             32       0         61       11       8      0  5341713652   \n2             32       0         25       19       2      0  3276678806   \n3             31       2        101       19       4      0  5250431775   \n4             29       0         69       17       7      2  4777319992   \n\n   start_time    win  hero_id  account_id  \\\n0  1591890200   True       90   326177197   \n1  1586337968  False       90   319405932   \n2  1498544603   True       30    86772934   \n3  1582116657  False       90  1058332010   \n4  1558620545  False       75   186575040   \n\n                                   leaguename  \n0  GamaGames - Season 4 Professional - Part 2  \n1                         Masters  Tournament  \n2                      The International 2017  \n3                      Asia Challenger league  \n4                                TNG League 1  ",
      "text/html": "<div>\n<style scoped>\n    .dataframe tbody tr th:only-of-type {\n        vertical-align: middle;\n    }\n\n    .dataframe tbody tr th {\n        vertical-align: top;\n    }\n\n    .dataframe thead th {\n        text-align: right;\n    }\n</style>\n<table border=\"1\" class=\"dataframe\">\n  <thead>\n    <tr style=\"text-align: right;\">\n      <th></th>\n      <th>camps_stacked</th>\n      <th>denies</th>\n      <th>last_hits</th>\n      <th>assists</th>\n      <th>deaths</th>\n      <th>kills</th>\n      <th>match_id</th>\n      <th>start_time</th>\n      <th>win</th>\n      <th>hero_id</th>\n      <th>account_id</th>\n      <th>leaguename</th>\n    </tr>\n  </thead>\n  <tbody>\n    <tr>\n      <th>0</th>\n      <td>33</td>\n      <td>4</td>\n      <td>56</td>\n      <td>21</td>\n      <td>5</td>\n      <td>2</td>\n      <td>5465684523</td>\n      <td>1591890200</td>\n      <td>True</td>\n      <td>90</td>\n      <td>326177197</td>\n      <td>GamaGames - Season 4 Professional - Part 2</td>\n    </tr>\n    <tr>\n      <th>1</th>\n      <td>32</td>\n      <td>0</td>\n      <td>61</td>\n      <td>11</td>\n      <td>8</td>\n      <td>0</td>\n      <td>5341713652</td>\n      <td>1586337968</td>\n      <td>False</td>\n      <td>90</td>\n      <td>319405932</td>\n      <td>Masters  Tournament</td>\n    </tr>\n    <tr>\n      <th>2</th>\n      <td>32</td>\n      <td>0</td>\n      <td>25</td>\n      <td>19</td>\n      <td>2</td>\n      <td>0</td>\n      <td>3276678806</td>\n      <td>1498544603</td>\n      <td>True</td>\n      <td>30</td>\n      <td>86772934</td>\n      <td>The International 2017</td>\n    </tr>\n    <tr>\n      <th>3</th>\n      <td>31</td>\n      <td>2</td>\n      <td>101</td>\n      <td>19</td>\n      <td>4</td>\n      <td>0</td>\n      <td>5250431775</td>\n      <td>1582116657</td>\n      <td>False</td>\n      <td>90</td>\n      <td>1058332010</td>\n      <td>Asia Challenger league</td>\n    </tr>\n    <tr>\n      <th>4</th>\n      <td>29</td>\n      <td>0</td>\n      <td>69</td>\n      <td>17</td>\n      <td>7</td>\n      <td>2</td>\n      <td>4777319992</td>\n      <td>1558620545</td>\n      <td>False</td>\n      <td>75</td>\n      <td>186575040</td>\n      <td>TNG League 1</td>\n    </tr>\n  </tbody>\n</table>\n</div>"
     },
     "metadata": {},
     "execution_count": 2
    }
   ],
   "source": [
    "doto_match_df = pd.read_csv(\"./data.csv\")\n",
    "doto_match_df.head()"
   ]
  },
  {
   "cell_type": "markdown",
   "metadata": {},
   "source": [
    "# Check the win rate  \n",
    "You can see data is not biased to win or lose"
   ]
  },
  {
   "cell_type": "code",
   "execution_count": 3,
   "metadata": {},
   "outputs": [
    {
     "output_type": "execute_result",
     "data": {
      "text/plain": "win\nFalse     93642\nTrue     106358\ndtype: int64"
     },
     "metadata": {},
     "execution_count": 3
    }
   ],
   "source": [
    "doto_match_df.groupby('win').size()"
   ]
  },
  {
   "cell_type": "markdown",
   "metadata": {},
   "source": [
    "# Reorder data & delete useless column  \n",
    "start_time is not related to win,league name and account_id is limited, result in worse performance"
   ]
  },
  {
   "cell_type": "code",
   "execution_count": 4,
   "metadata": {},
   "outputs": [
    {
     "output_type": "execute_result",
     "data": {
      "text/plain": "     match_id    win  kills  deaths  assists  last_hits  denies  \\\n0  5465684523   True      2       5       21         56       4   \n1  5341713652  False      0       8       11         61       0   \n2  3276678806   True      0       2       19         25       0   \n3  5250431775  False      0       4       19        101       2   \n4  4777319992  False      2       7       17         69       0   \n\n   camps_stacked  hero_id  \n0             33       90  \n1             32       90  \n2             32       30  \n3             31       90  \n4             29       75  ",
      "text/html": "<div>\n<style scoped>\n    .dataframe tbody tr th:only-of-type {\n        vertical-align: middle;\n    }\n\n    .dataframe tbody tr th {\n        vertical-align: top;\n    }\n\n    .dataframe thead th {\n        text-align: right;\n    }\n</style>\n<table border=\"1\" class=\"dataframe\">\n  <thead>\n    <tr style=\"text-align: right;\">\n      <th></th>\n      <th>match_id</th>\n      <th>win</th>\n      <th>kills</th>\n      <th>deaths</th>\n      <th>assists</th>\n      <th>last_hits</th>\n      <th>denies</th>\n      <th>camps_stacked</th>\n      <th>hero_id</th>\n    </tr>\n  </thead>\n  <tbody>\n    <tr>\n      <th>0</th>\n      <td>5465684523</td>\n      <td>True</td>\n      <td>2</td>\n      <td>5</td>\n      <td>21</td>\n      <td>56</td>\n      <td>4</td>\n      <td>33</td>\n      <td>90</td>\n    </tr>\n    <tr>\n      <th>1</th>\n      <td>5341713652</td>\n      <td>False</td>\n      <td>0</td>\n      <td>8</td>\n      <td>11</td>\n      <td>61</td>\n      <td>0</td>\n      <td>32</td>\n      <td>90</td>\n    </tr>\n    <tr>\n      <th>2</th>\n      <td>3276678806</td>\n      <td>True</td>\n      <td>0</td>\n      <td>2</td>\n      <td>19</td>\n      <td>25</td>\n      <td>0</td>\n      <td>32</td>\n      <td>30</td>\n    </tr>\n    <tr>\n      <th>3</th>\n      <td>5250431775</td>\n      <td>False</td>\n      <td>0</td>\n      <td>4</td>\n      <td>19</td>\n      <td>101</td>\n      <td>2</td>\n      <td>31</td>\n      <td>90</td>\n    </tr>\n    <tr>\n      <th>4</th>\n      <td>4777319992</td>\n      <td>False</td>\n      <td>2</td>\n      <td>7</td>\n      <td>17</td>\n      <td>69</td>\n      <td>0</td>\n      <td>29</td>\n      <td>75</td>\n    </tr>\n  </tbody>\n</table>\n</div>"
     },
     "metadata": {},
     "execution_count": 4
    }
   ],
   "source": [
    "doto_match_df = doto_match_df[['match_id', 'win', 'kills', 'deaths', 'assists', 'last_hits', 'denies', 'camps_stacked', 'hero_id']]\n",
    "doto_match_df.head()"
   ]
  },
  {
   "cell_type": "code",
   "execution_count": 5,
   "metadata": {
    "tags": []
   },
   "outputs": [
    {
     "output_type": "stream",
     "name": "stdout",
     "text": "1\n129\n"
    }
   ],
   "source": [
    "print(doto_match_df.hero_id.min())\n",
    "print(doto_match_df.hero_id.max())"
   ]
  },
  {
   "cell_type": "markdown",
   "metadata": {},
   "source": [
    "# one-hot encode hero_id  \n",
    "As hero_id is index, not numerical value, it has to be encoded"
   ]
  },
  {
   "cell_type": "code",
   "execution_count": 6,
   "metadata": {
    "tags": []
   },
   "outputs": [
    {
     "output_type": "stream",
     "name": "stdout",
     "text": "(200000, 127)\n"
    }
   ],
   "source": [
    "doto_match_df = pd.get_dummies(doto_match_df, columns=['hero_id'])\n",
    "print(doto_match_df.shape)"
   ]
  },
  {
   "cell_type": "markdown",
   "metadata": {},
   "source": [
    "# Split data using match_id  \n",
    "since match_id is independent to win, use it to split and drop it"
   ]
  },
  {
   "cell_type": "code",
   "execution_count": 7,
   "metadata": {
    "tags": []
   },
   "outputs": [
    {
     "output_type": "stream",
     "name": "stdout",
     "text": "(139242, 126) (60758, 126)\n"
    }
   ],
   "source": [
    "doto_match_train = doto_match_df[doto_match_df.match_id % 10 < 7]\n",
    "doto_match_test = doto_match_df[doto_match_df.match_id % 10 >= 7]\n",
    "doto_match_train = doto_match_train.drop('match_id', axis=1)\n",
    "doto_match_test = doto_match_test.drop('match_id', axis=1)\n",
    "print(doto_match_train.shape, doto_match_test.shape)"
   ]
  },
  {
   "cell_type": "code",
   "execution_count": 8,
   "metadata": {},
   "outputs": [
    {
     "output_type": "execute_result",
     "data": {
      "text/plain": "     win  kills  deaths  assists  last_hits  denies  camps_stacked  hero_id_1  \\\n0   True      2       5       21         56       4             33          0   \n1  False      0       8       11         61       0             32          0   \n2   True      0       2       19         25       0             32          0   \n3  False      0       4       19        101       2             31          0   \n4  False      2       7       17         69       0             29          0   \n\n   hero_id_2  hero_id_3  ...  hero_id_111  hero_id_112  hero_id_113  \\\n0          0          0  ...            0            0            0   \n1          0          0  ...            0            0            0   \n2          0          0  ...            0            0            0   \n3          0          0  ...            0            0            0   \n4          0          0  ...            0            0            0   \n\n   hero_id_114  hero_id_119  hero_id_120  hero_id_121  hero_id_126  \\\n0            0            0            0            0            0   \n1            0            0            0            0            0   \n2            0            0            0            0            0   \n3            0            0            0            0            0   \n4            0            0            0            0            0   \n\n   hero_id_128  hero_id_129  \n0            0            0  \n1            0            0  \n2            0            0  \n3            0            0  \n4            0            0  \n\n[5 rows x 126 columns]",
      "text/html": "<div>\n<style scoped>\n    .dataframe tbody tr th:only-of-type {\n        vertical-align: middle;\n    }\n\n    .dataframe tbody tr th {\n        vertical-align: top;\n    }\n\n    .dataframe thead th {\n        text-align: right;\n    }\n</style>\n<table border=\"1\" class=\"dataframe\">\n  <thead>\n    <tr style=\"text-align: right;\">\n      <th></th>\n      <th>win</th>\n      <th>kills</th>\n      <th>deaths</th>\n      <th>assists</th>\n      <th>last_hits</th>\n      <th>denies</th>\n      <th>camps_stacked</th>\n      <th>hero_id_1</th>\n      <th>hero_id_2</th>\n      <th>hero_id_3</th>\n      <th>...</th>\n      <th>hero_id_111</th>\n      <th>hero_id_112</th>\n      <th>hero_id_113</th>\n      <th>hero_id_114</th>\n      <th>hero_id_119</th>\n      <th>hero_id_120</th>\n      <th>hero_id_121</th>\n      <th>hero_id_126</th>\n      <th>hero_id_128</th>\n      <th>hero_id_129</th>\n    </tr>\n  </thead>\n  <tbody>\n    <tr>\n      <th>0</th>\n      <td>True</td>\n      <td>2</td>\n      <td>5</td>\n      <td>21</td>\n      <td>56</td>\n      <td>4</td>\n      <td>33</td>\n      <td>0</td>\n      <td>0</td>\n      <td>0</td>\n      <td>...</td>\n      <td>0</td>\n      <td>0</td>\n      <td>0</td>\n      <td>0</td>\n      <td>0</td>\n      <td>0</td>\n      <td>0</td>\n      <td>0</td>\n      <td>0</td>\n      <td>0</td>\n    </tr>\n    <tr>\n      <th>1</th>\n      <td>False</td>\n      <td>0</td>\n      <td>8</td>\n      <td>11</td>\n      <td>61</td>\n      <td>0</td>\n      <td>32</td>\n      <td>0</td>\n      <td>0</td>\n      <td>0</td>\n      <td>...</td>\n      <td>0</td>\n      <td>0</td>\n      <td>0</td>\n      <td>0</td>\n      <td>0</td>\n      <td>0</td>\n      <td>0</td>\n      <td>0</td>\n      <td>0</td>\n      <td>0</td>\n    </tr>\n    <tr>\n      <th>2</th>\n      <td>True</td>\n      <td>0</td>\n      <td>2</td>\n      <td>19</td>\n      <td>25</td>\n      <td>0</td>\n      <td>32</td>\n      <td>0</td>\n      <td>0</td>\n      <td>0</td>\n      <td>...</td>\n      <td>0</td>\n      <td>0</td>\n      <td>0</td>\n      <td>0</td>\n      <td>0</td>\n      <td>0</td>\n      <td>0</td>\n      <td>0</td>\n      <td>0</td>\n      <td>0</td>\n    </tr>\n    <tr>\n      <th>3</th>\n      <td>False</td>\n      <td>0</td>\n      <td>4</td>\n      <td>19</td>\n      <td>101</td>\n      <td>2</td>\n      <td>31</td>\n      <td>0</td>\n      <td>0</td>\n      <td>0</td>\n      <td>...</td>\n      <td>0</td>\n      <td>0</td>\n      <td>0</td>\n      <td>0</td>\n      <td>0</td>\n      <td>0</td>\n      <td>0</td>\n      <td>0</td>\n      <td>0</td>\n      <td>0</td>\n    </tr>\n    <tr>\n      <th>4</th>\n      <td>False</td>\n      <td>2</td>\n      <td>7</td>\n      <td>17</td>\n      <td>69</td>\n      <td>0</td>\n      <td>29</td>\n      <td>0</td>\n      <td>0</td>\n      <td>0</td>\n      <td>...</td>\n      <td>0</td>\n      <td>0</td>\n      <td>0</td>\n      <td>0</td>\n      <td>0</td>\n      <td>0</td>\n      <td>0</td>\n      <td>0</td>\n      <td>0</td>\n      <td>0</td>\n    </tr>\n  </tbody>\n</table>\n<p>5 rows × 126 columns</p>\n</div>"
     },
     "metadata": {},
     "execution_count": 8
    }
   ],
   "source": [
    "doto_match_train.head()"
   ]
  },
  {
   "cell_type": "code",
   "execution_count": 9,
   "metadata": {},
   "outputs": [
    {
     "output_type": "execute_result",
     "data": {
      "text/plain": "      win  kills  deaths  assists  last_hits  denies  camps_stacked  \\\n10   True      1      13       11         43       1             24   \n12  False      1       5        5        154       2             23   \n19  False      1       6        9         45       1             22   \n22   True      2       9       16         30       0             22   \n24   True      1       5       13         45       3             21   \n\n    hero_id_1  hero_id_2  hero_id_3  ...  hero_id_111  hero_id_112  \\\n10          0          0          0  ...            0            0   \n12          0          0          0  ...            0            0   \n19          0          0          0  ...            0            0   \n22          0          0          0  ...            0            0   \n24          0          0          0  ...            0            0   \n\n    hero_id_113  hero_id_114  hero_id_119  hero_id_120  hero_id_121  \\\n10            0            0            0            0            0   \n12            0            0            0            0            0   \n19            0            0            0            0            0   \n22            0            0            0            0            0   \n24            0            0            0            0            0   \n\n    hero_id_126  hero_id_128  hero_id_129  \n10            0            0            0  \n12            0            0            0  \n19            0            0            0  \n22            0            0            0  \n24            0            0            0  \n\n[5 rows x 126 columns]",
      "text/html": "<div>\n<style scoped>\n    .dataframe tbody tr th:only-of-type {\n        vertical-align: middle;\n    }\n\n    .dataframe tbody tr th {\n        vertical-align: top;\n    }\n\n    .dataframe thead th {\n        text-align: right;\n    }\n</style>\n<table border=\"1\" class=\"dataframe\">\n  <thead>\n    <tr style=\"text-align: right;\">\n      <th></th>\n      <th>win</th>\n      <th>kills</th>\n      <th>deaths</th>\n      <th>assists</th>\n      <th>last_hits</th>\n      <th>denies</th>\n      <th>camps_stacked</th>\n      <th>hero_id_1</th>\n      <th>hero_id_2</th>\n      <th>hero_id_3</th>\n      <th>...</th>\n      <th>hero_id_111</th>\n      <th>hero_id_112</th>\n      <th>hero_id_113</th>\n      <th>hero_id_114</th>\n      <th>hero_id_119</th>\n      <th>hero_id_120</th>\n      <th>hero_id_121</th>\n      <th>hero_id_126</th>\n      <th>hero_id_128</th>\n      <th>hero_id_129</th>\n    </tr>\n  </thead>\n  <tbody>\n    <tr>\n      <th>10</th>\n      <td>True</td>\n      <td>1</td>\n      <td>13</td>\n      <td>11</td>\n      <td>43</td>\n      <td>1</td>\n      <td>24</td>\n      <td>0</td>\n      <td>0</td>\n      <td>0</td>\n      <td>...</td>\n      <td>0</td>\n      <td>0</td>\n      <td>0</td>\n      <td>0</td>\n      <td>0</td>\n      <td>0</td>\n      <td>0</td>\n      <td>0</td>\n      <td>0</td>\n      <td>0</td>\n    </tr>\n    <tr>\n      <th>12</th>\n      <td>False</td>\n      <td>1</td>\n      <td>5</td>\n      <td>5</td>\n      <td>154</td>\n      <td>2</td>\n      <td>23</td>\n      <td>0</td>\n      <td>0</td>\n      <td>0</td>\n      <td>...</td>\n      <td>0</td>\n      <td>0</td>\n      <td>0</td>\n      <td>0</td>\n      <td>0</td>\n      <td>0</td>\n      <td>0</td>\n      <td>0</td>\n      <td>0</td>\n      <td>0</td>\n    </tr>\n    <tr>\n      <th>19</th>\n      <td>False</td>\n      <td>1</td>\n      <td>6</td>\n      <td>9</td>\n      <td>45</td>\n      <td>1</td>\n      <td>22</td>\n      <td>0</td>\n      <td>0</td>\n      <td>0</td>\n      <td>...</td>\n      <td>0</td>\n      <td>0</td>\n      <td>0</td>\n      <td>0</td>\n      <td>0</td>\n      <td>0</td>\n      <td>0</td>\n      <td>0</td>\n      <td>0</td>\n      <td>0</td>\n    </tr>\n    <tr>\n      <th>22</th>\n      <td>True</td>\n      <td>2</td>\n      <td>9</td>\n      <td>16</td>\n      <td>30</td>\n      <td>0</td>\n      <td>22</td>\n      <td>0</td>\n      <td>0</td>\n      <td>0</td>\n      <td>...</td>\n      <td>0</td>\n      <td>0</td>\n      <td>0</td>\n      <td>0</td>\n      <td>0</td>\n      <td>0</td>\n      <td>0</td>\n      <td>0</td>\n      <td>0</td>\n      <td>0</td>\n    </tr>\n    <tr>\n      <th>24</th>\n      <td>True</td>\n      <td>1</td>\n      <td>5</td>\n      <td>13</td>\n      <td>45</td>\n      <td>3</td>\n      <td>21</td>\n      <td>0</td>\n      <td>0</td>\n      <td>0</td>\n      <td>...</td>\n      <td>0</td>\n      <td>0</td>\n      <td>0</td>\n      <td>0</td>\n      <td>0</td>\n      <td>0</td>\n      <td>0</td>\n      <td>0</td>\n      <td>0</td>\n      <td>0</td>\n    </tr>\n  </tbody>\n</table>\n<p>5 rows × 126 columns</p>\n</div>"
     },
     "metadata": {},
     "execution_count": 9
    }
   ],
   "source": [
    "doto_match_test.head()"
   ]
  },
  {
   "cell_type": "code",
   "execution_count": 10,
   "metadata": {},
   "outputs": [],
   "source": [
    "class DotoDataset(torch.utils.data.Dataset):\n",
    "    def __init__(self, df):\n",
    "        self.len = df.shape[0]\n",
    "        self.y_data = torch.from_numpy(df['win'].values).float()\n",
    "        self.y_data = torch.reshape(self.y_data, (-1, 1))\n",
    "        self.x_data = torch.from_numpy(df.drop('win', axis=1).values).float()\n",
    "    def __getitem__(self, index):\n",
    "        return self.x_data[index], self.y_data[index]\n",
    "    \n",
    "    def __len__(self):\n",
    "        return self.len"
   ]
  },
  {
   "cell_type": "code",
   "execution_count": 11,
   "metadata": {},
   "outputs": [],
   "source": [
    "trainset = DotoDataset(doto_match_train)\n",
    "testset = DotoDataset(doto_match_test)"
   ]
  },
  {
   "cell_type": "code",
   "execution_count": 12,
   "metadata": {
    "tags": []
   },
   "outputs": [],
   "source": [
    "trainloader = torch.utils.data.DataLoader(trainset, batch_size=32, shuffle=True, num_workers=0)\n",
    "testloader = torch.utils.data.DataLoader(testset, batch_size=32, shuffle=True, num_workers=0)\n"
   ]
  },
  {
   "cell_type": "markdown",
   "metadata": {},
   "source": [
    "# Make neural network class  \n",
    "Make neural network class using pytorch. input size, width of each layer, output size can be varied."
   ]
  },
  {
   "cell_type": "code",
   "execution_count": 13,
   "metadata": {},
   "outputs": [],
   "source": [
    "class DotoNet(torch.nn.Module):\n",
    "    def __init__(self, input_size, width_1, width_2, output_size):\n",
    "        super().__init__()\n",
    "        self.linear1 = torch.nn.Linear(input_size, width_1)\n",
    "        self.linear2 = torch.nn.Linear(width_1, width_2)\n",
    "        self.linear3 = torch.nn.Linear(width_2, output_size)\n",
    "    def forward(self, x):\n",
    "        x = F.relu(self.linear1(x))\n",
    "        x = F.relu(self.linear2(x))\n",
    "        x = F.sigmoid(self.linear3(x))\n",
    "        return x\n"
   ]
  },
  {
   "cell_type": "markdown",
   "metadata": {},
   "source": [
    "# Check GPU works"
   ]
  },
  {
   "cell_type": "code",
   "execution_count": 14,
   "metadata": {
    "tags": []
   },
   "outputs": [
    {
     "output_type": "stream",
     "name": "stdout",
     "text": "cuda:0\n"
    }
   ],
   "source": [
    "device = torch.device(\"cuda:0\" if torch.cuda.is_available() else \"cpu\")\n",
    "print(device)"
   ]
  },
  {
   "cell_type": "markdown",
   "metadata": {},
   "source": [
    "# Construct model, loss, optimizer"
   ]
  },
  {
   "cell_type": "code",
   "execution_count": 15,
   "metadata": {},
   "outputs": [],
   "source": [
    "# Construct model for doto\n",
    "model = DotoNet(125, 256, 64, 1).to(device=device)\n",
    "\n",
    "criterion = nn.BCEWithLogitsLoss()\n",
    "optimizer = torch.optim.SGD(model.parameters(), lr=3.3e-6, momentum=0.9)\n",
    "    "
   ]
  },
  {
   "cell_type": "markdown",
   "metadata": {},
   "source": [
    "# Make function for accuracy"
   ]
  },
  {
   "cell_type": "code",
   "execution_count": 16,
   "metadata": {},
   "outputs": [],
   "source": [
    "def accuracy_checker():\n",
    "    correct_train = 0\n",
    "    total_train = 0\n",
    "    with torch.no_grad():\n",
    "        for data in trainloader:\n",
    "            inputs, labels = data\n",
    "            inputs = inputs.to(device=device)\n",
    "            labels = labels.to(device=device)\n",
    "            outputs = model(inputs)\n",
    "            predicted = outputs.data>=0.5\n",
    "            total_train += labels.size(0)\n",
    "            correct_train += (predicted == labels).sum().item()\n",
    "\n",
    "    accuracy_train = correct_train / total_train\n",
    "    print('Accuracy of the network on the trainset: %d %%' % (\n",
    "        100 * accuracy_train))\n",
    "    print(correct_train, total_train)\n",
    "\n",
    "    correct_test = 0\n",
    "    total_test = 0\n",
    "    with torch.no_grad():\n",
    "        for data in testloader:\n",
    "            inputs, labels = data\n",
    "            inputs = inputs.to(device=device)\n",
    "            labels = labels.to(device=device)\n",
    "            outputs = model(inputs)\n",
    "            predicted = outputs.data>=0.5\n",
    "            total_test += labels.size(0)\n",
    "            correct_test += (predicted == labels).sum().item()\n",
    "\n",
    "    accuracy_test = correct_test / total_test\n",
    "    print('Accuracy of the network on the testset: %d %%' % (\n",
    "        100 * accuracy_test))\n",
    "    print(total_test, total_test)\n",
    "\n",
    "    return accuracy_train, accuracy_test\n",
    "\n"
   ]
  },
  {
   "cell_type": "markdown",
   "metadata": {},
   "source": [
    "# Start training"
   ]
  },
  {
   "cell_type": "code",
   "execution_count": 529,
   "metadata": {},
   "outputs": [
    {
     "output_type": "stream",
     "name": "stdout",
     "text": "[1,  2000] loss: 0.704\n[1,  4000] loss: 0.695\n[2,  2000] loss: 0.695\n[2,  4000] loss: 0.694\n[3,  2000] loss: 0.694\n[3,  4000] loss: 0.693\n[4,  2000] loss: 0.692\n[4,  4000] loss: 0.692\n[5,  2000] loss: 0.692\n[5,  4000] loss: 0.690\n[6,  2000] loss: 0.691\n[6,  4000] loss: 0.690\n[7,  2000] loss: 0.689\n[7,  4000] loss: 0.690\n[8,  2000] loss: 0.689\n[8,  4000] loss: 0.688\n[9,  2000] loss: 0.688\n[9,  4000] loss: 0.687\nAccuracy of the network on the trainset: 55 %\n76592 139242\nAccuracy of the network on the testset: 54 %\n60758 60758\n[10,  2000] loss: 0.687\n[10,  4000] loss: 0.686\n[11,  2000] loss: 0.686\n[11,  4000] loss: 0.685\n[12,  2000] loss: 0.685\n[12,  4000] loss: 0.684\n[13,  2000] loss: 0.683\n[13,  4000] loss: 0.683\n[14,  2000] loss: 0.682\n[14,  4000] loss: 0.682\n[15,  2000] loss: 0.683\n[15,  4000] loss: 0.679\n[16,  2000] loss: 0.680\n[16,  4000] loss: 0.679\n[17,  2000] loss: 0.679\n[17,  4000] loss: 0.677\n[18,  2000] loss: 0.679\n[18,  4000] loss: 0.674\n[19,  2000] loss: 0.676\n[19,  4000] loss: 0.675\nAccuracy of the network on the trainset: 62 %\n87030 139242\nAccuracy of the network on the testset: 62 %\n60758 60758\n[20,  2000] loss: 0.675\n[20,  4000] loss: 0.673\n[21,  2000] loss: 0.672\n[21,  4000] loss: 0.672\n[22,  2000] loss: 0.671\n[22,  4000] loss: 0.671\n[23,  2000] loss: 0.670\n[23,  4000] loss: 0.669\n[24,  2000] loss: 0.668\n[24,  4000] loss: 0.667\n[25,  2000] loss: 0.666\n[25,  4000] loss: 0.666\n[26,  2000] loss: 0.664\n[26,  4000] loss: 0.663\n[27,  2000] loss: 0.662\n[27,  4000] loss: 0.662\n[28,  2000] loss: 0.661\n[28,  4000] loss: 0.659\n[29,  2000] loss: 0.658\n[29,  4000] loss: 0.658\nAccuracy of the network on the trainset: 70 %\n97803 139242\nAccuracy of the network on the testset: 69 %\n60758 60758\n[30,  2000] loss: 0.658\n[30,  4000] loss: 0.655\n[31,  2000] loss: 0.655\n[31,  4000] loss: 0.653\n[32,  2000] loss: 0.653\n[32,  4000] loss: 0.651\n[33,  2000] loss: 0.651\n[33,  4000] loss: 0.649\n[34,  2000] loss: 0.648\n[34,  4000] loss: 0.648\n[35,  2000] loss: 0.647\n[35,  4000] loss: 0.645\n[36,  2000] loss: 0.644\n[36,  4000] loss: 0.642\n[37,  2000] loss: 0.642\n[37,  4000] loss: 0.639\n[38,  2000] loss: 0.640\n[38,  4000] loss: 0.638\n[39,  2000] loss: 0.636\n[39,  4000] loss: 0.637\nAccuracy of the network on the trainset: 76 %\n106317 139242\nAccuracy of the network on the testset: 76 %\n60758 60758\n[40,  2000] loss: 0.635\n[40,  4000] loss: 0.633\n[41,  2000] loss: 0.633\n[41,  4000] loss: 0.631\n[42,  2000] loss: 0.630\n[42,  4000] loss: 0.630\n[43,  2000] loss: 0.627\n[43,  4000] loss: 0.628\n[44,  2000] loss: 0.626\n[44,  4000] loss: 0.624\n[45,  2000] loss: 0.624\n[45,  4000] loss: 0.622\n[46,  2000] loss: 0.622\n[46,  4000] loss: 0.620\n[47,  2000] loss: 0.620\n[47,  4000] loss: 0.618\n[48,  2000] loss: 0.618\n[48,  4000] loss: 0.617\n[49,  2000] loss: 0.616\n[49,  4000] loss: 0.614\nAccuracy of the network on the trainset: 80 %\n112075 139242\nAccuracy of the network on the testset: 80 %\n60758 60758\n[50,  2000] loss: 0.614\n[50,  4000] loss: 0.612\n[51,  2000] loss: 0.612\n[51,  4000] loss: 0.611\n[52,  2000] loss: 0.610\n[52,  4000] loss: 0.609\n[53,  2000] loss: 0.609\n[53,  4000] loss: 0.608\n[54,  2000] loss: 0.606\n[54,  4000] loss: 0.607\n[55,  2000] loss: 0.607\n[55,  4000] loss: 0.605\n[56,  2000] loss: 0.604\n[56,  4000] loss: 0.604\n[57,  2000] loss: 0.603\n[57,  4000] loss: 0.602\n[58,  2000] loss: 0.603\n[58,  4000] loss: 0.599\n[59,  2000] loss: 0.600\n[59,  4000] loss: 0.600\nAccuracy of the network on the trainset: 82 %\n114305 139242\nAccuracy of the network on the testset: 82 %\n60758 60758\n[60,  2000] loss: 0.599\n[60,  4000] loss: 0.598\n[61,  2000] loss: 0.598\n[61,  4000] loss: 0.597\n[62,  2000] loss: 0.597\n[62,  4000] loss: 0.596\n[63,  2000] loss: 0.596\n[63,  4000] loss: 0.595\n[64,  2000] loss: 0.594\n[64,  4000] loss: 0.595\n[65,  2000] loss: 0.595\n[65,  4000] loss: 0.593\n[66,  2000] loss: 0.593\n[66,  4000] loss: 0.593\n[67,  2000] loss: 0.592\n[67,  4000] loss: 0.591\n[68,  2000] loss: 0.591\n[68,  4000] loss: 0.590\n[69,  2000] loss: 0.590\n[69,  4000] loss: 0.590\nAccuracy of the network on the trainset: 83 %\n115843 139242\nAccuracy of the network on the testset: 83 %\n60758 60758\n[70,  2000] loss: 0.589\n[70,  4000] loss: 0.590\n[71,  2000] loss: 0.590\n[71,  4000] loss: 0.588\n[72,  2000] loss: 0.589\n[72,  4000] loss: 0.587\n[73,  2000] loss: 0.588\n[73,  4000] loss: 0.587\n[74,  2000] loss: 0.588\n[74,  4000] loss: 0.586\n[75,  2000] loss: 0.585\n[75,  4000] loss: 0.587\n[76,  2000] loss: 0.587\n[76,  4000] loss: 0.585\n[77,  2000] loss: 0.586\n[77,  4000] loss: 0.585\n[78,  2000] loss: 0.585\n[78,  4000] loss: 0.585\n[79,  2000] loss: 0.586\n[79,  4000] loss: 0.583\nAccuracy of the network on the trainset: 83 %\n115781 139242\nAccuracy of the network on the testset: 83 %\n60758 60758\n[80,  2000] loss: 0.584\n[80,  4000] loss: 0.584\n[81,  2000] loss: 0.583\n[81,  4000] loss: 0.584\n[82,  2000] loss: 0.584\n[82,  4000] loss: 0.582\n[83,  2000] loss: 0.584\n[83,  4000] loss: 0.582\n[84,  2000] loss: 0.582\n[84,  4000] loss: 0.583\n[85,  2000] loss: 0.582\n[85,  4000] loss: 0.582\n[86,  2000] loss: 0.582\n[86,  4000] loss: 0.582\n[87,  2000] loss: 0.581\n[87,  4000] loss: 0.581\n[88,  2000] loss: 0.581\n[88,  4000] loss: 0.581\n[89,  2000] loss: 0.581\n[89,  4000] loss: 0.580\nAccuracy of the network on the trainset: 83 %\n116047 139242\nAccuracy of the network on the testset: 83 %\n60758 60758\n[90,  2000] loss: 0.580\n[90,  4000] loss: 0.580\n[91,  2000] loss: 0.581\n[91,  4000] loss: 0.579\n[92,  2000] loss: 0.579\n[92,  4000] loss: 0.579\n[93,  2000] loss: 0.579\n[93,  4000] loss: 0.579\n[94,  2000] loss: 0.579\n[94,  4000] loss: 0.579\n[95,  2000] loss: 0.578\n[95,  4000] loss: 0.580\n[96,  2000] loss: 0.579\n[96,  4000] loss: 0.577\n[97,  2000] loss: 0.578\n[97,  4000] loss: 0.578\n[98,  2000] loss: 0.578\n[98,  4000] loss: 0.578\n[99,  2000] loss: 0.579\n[99,  4000] loss: 0.577\nAccuracy of the network on the trainset: 82 %\n115353 139242\nAccuracy of the network on the testset: 82 %\n60758 60758\n[100,  2000] loss: 0.577\n[100,  4000] loss: 0.578\n[101,  2000] loss: 0.577\n[101,  4000] loss: 0.578\n[102,  2000] loss: 0.578\n[102,  4000] loss: 0.577\n[103,  2000] loss: 0.576\n[103,  4000] loss: 0.578\n[104,  2000] loss: 0.578\n[104,  4000] loss: 0.576\n[105,  2000] loss: 0.577\n[105,  4000] loss: 0.576\n[106,  2000] loss: 0.576\n[106,  4000] loss: 0.577\n[107,  2000] loss: 0.575\n[107,  4000] loss: 0.577\n[108,  2000] loss: 0.577\n[108,  4000] loss: 0.576\n[109,  2000] loss: 0.576\n[109,  4000] loss: 0.576\nAccuracy of the network on the trainset: 83 %\n115740 139242\nAccuracy of the network on the testset: 83 %\n60758 60758\n[110,  2000] loss: 0.576\n[110,  4000] loss: 0.575\n[111,  2000] loss: 0.576\n[111,  4000] loss: 0.575\n[112,  2000] loss: 0.575\n[112,  4000] loss: 0.576\n[113,  2000] loss: 0.575\n[113,  4000] loss: 0.575\n[114,  2000] loss: 0.574\n[114,  4000] loss: 0.576\n[115,  2000] loss: 0.576\n[115,  4000] loss: 0.574\n[116,  2000] loss: 0.575\n[116,  4000] loss: 0.575\n[117,  2000] loss: 0.575\n[117,  4000] loss: 0.575\n[118,  2000] loss: 0.575\n[118,  4000] loss: 0.574\n[119,  2000] loss: 0.574\n[119,  4000] loss: 0.575\nAccuracy of the network on the trainset: 83 %\n116050 139242\nAccuracy of the network on the testset: 83 %\n60758 60758\n[120,  2000] loss: 0.573\n[120,  4000] loss: 0.576\n[121,  2000] loss: 0.574\n[121,  4000] loss: 0.574\n[122,  2000] loss: 0.575\n[122,  4000] loss: 0.573\n[123,  2000] loss: 0.574\n[123,  4000] loss: 0.574\n[124,  2000] loss: 0.574\n[124,  4000] loss: 0.573\n[125,  2000] loss: 0.574\n[125,  4000] loss: 0.574\n[126,  2000] loss: 0.574\n[126,  4000] loss: 0.573\n[127,  2000] loss: 0.573\n[127,  4000] loss: 0.574\n[128,  2000] loss: 0.573\n[128,  4000] loss: 0.574\n[129,  2000] loss: 0.573\n[129,  4000] loss: 0.574\nAccuracy of the network on the trainset: 83 %\n116557 139242\nAccuracy of the network on the testset: 83 %\n60758 60758\n[130,  2000] loss: 0.573\n[130,  4000] loss: 0.572\n[131,  2000] loss: 0.573\n[131,  4000] loss: 0.572\n[132,  2000] loss: 0.573\n[132,  4000] loss: 0.573\n[133,  2000] loss: 0.574\n[133,  4000] loss: 0.572\n[134,  2000] loss: 0.572\n[134,  4000] loss: 0.574\n[135,  2000] loss: 0.572\n[135,  4000] loss: 0.573\n[136,  2000] loss: 0.574\n[136,  4000] loss: 0.571\n[137,  2000] loss: 0.572\n[137,  4000] loss: 0.573\n[138,  2000] loss: 0.573\n[138,  4000] loss: 0.572\n[139,  2000] loss: 0.571\n[139,  4000] loss: 0.573\nAccuracy of the network on the trainset: 83 %\n116183 139242\nAccuracy of the network on the testset: 83 %\n60758 60758\n[140,  2000] loss: 0.572\n[140,  4000] loss: 0.572\n[141,  2000] loss: 0.575\n[141,  4000] loss: 0.571\n[142,  2000] loss: 0.573\n[142,  4000] loss: 0.571\n[143,  2000] loss: 0.572\n[143,  4000] loss: 0.572\n[144,  2000] loss: 0.572\n[144,  4000] loss: 0.572\n"
    },
    {
     "output_type": "error",
     "ename": "KeyboardInterrupt",
     "evalue": "",
     "traceback": [
      "\u001b[1;31m---------------------------------------------------------------------------\u001b[0m",
      "\u001b[1;31mKeyboardInterrupt\u001b[0m                         Traceback (most recent call last)",
      "\u001b[1;32m<ipython-input-529-780fc1eab229>\u001b[0m in \u001b[0;36m<module>\u001b[1;34m\u001b[0m\n\u001b[0;32m     10\u001b[0m         \u001b[0moptimizer\u001b[0m\u001b[1;33m.\u001b[0m\u001b[0mzero_grad\u001b[0m\u001b[1;33m(\u001b[0m\u001b[1;33m)\u001b[0m\u001b[1;33m\u001b[0m\u001b[1;33m\u001b[0m\u001b[0m\n\u001b[0;32m     11\u001b[0m \u001b[1;33m\u001b[0m\u001b[0m\n\u001b[1;32m---> 12\u001b[1;33m         \u001b[0moutputs\u001b[0m \u001b[1;33m=\u001b[0m \u001b[0mmodel\u001b[0m\u001b[1;33m(\u001b[0m\u001b[0minputs\u001b[0m\u001b[1;33m)\u001b[0m\u001b[1;33m\u001b[0m\u001b[1;33m\u001b[0m\u001b[0m\n\u001b[0m\u001b[0;32m     13\u001b[0m         \u001b[0mloss\u001b[0m \u001b[1;33m=\u001b[0m \u001b[0mcriterion\u001b[0m\u001b[1;33m(\u001b[0m\u001b[0moutputs\u001b[0m\u001b[1;33m,\u001b[0m \u001b[0mlabels\u001b[0m\u001b[1;33m)\u001b[0m\u001b[1;33m\u001b[0m\u001b[1;33m\u001b[0m\u001b[0m\n\u001b[0;32m     14\u001b[0m         \u001b[0mloss\u001b[0m\u001b[1;33m.\u001b[0m\u001b[0mbackward\u001b[0m\u001b[1;33m(\u001b[0m\u001b[1;33m)\u001b[0m\u001b[1;33m\u001b[0m\u001b[1;33m\u001b[0m\u001b[0m\n",
      "\u001b[1;32m~\\.conda\\envs\\koreauniv\\lib\\site-packages\\torch\\nn\\modules\\module.py\u001b[0m in \u001b[0;36m__call__\u001b[1;34m(self, *input, **kwargs)\u001b[0m\n\u001b[0;32m    548\u001b[0m             \u001b[0mresult\u001b[0m \u001b[1;33m=\u001b[0m \u001b[0mself\u001b[0m\u001b[1;33m.\u001b[0m\u001b[0m_slow_forward\u001b[0m\u001b[1;33m(\u001b[0m\u001b[1;33m*\u001b[0m\u001b[0minput\u001b[0m\u001b[1;33m,\u001b[0m \u001b[1;33m**\u001b[0m\u001b[0mkwargs\u001b[0m\u001b[1;33m)\u001b[0m\u001b[1;33m\u001b[0m\u001b[1;33m\u001b[0m\u001b[0m\n\u001b[0;32m    549\u001b[0m         \u001b[1;32melse\u001b[0m\u001b[1;33m:\u001b[0m\u001b[1;33m\u001b[0m\u001b[1;33m\u001b[0m\u001b[0m\n\u001b[1;32m--> 550\u001b[1;33m             \u001b[0mresult\u001b[0m \u001b[1;33m=\u001b[0m \u001b[0mself\u001b[0m\u001b[1;33m.\u001b[0m\u001b[0mforward\u001b[0m\u001b[1;33m(\u001b[0m\u001b[1;33m*\u001b[0m\u001b[0minput\u001b[0m\u001b[1;33m,\u001b[0m \u001b[1;33m**\u001b[0m\u001b[0mkwargs\u001b[0m\u001b[1;33m)\u001b[0m\u001b[1;33m\u001b[0m\u001b[1;33m\u001b[0m\u001b[0m\n\u001b[0m\u001b[0;32m    551\u001b[0m         \u001b[1;32mfor\u001b[0m \u001b[0mhook\u001b[0m \u001b[1;32min\u001b[0m \u001b[0mself\u001b[0m\u001b[1;33m.\u001b[0m\u001b[0m_forward_hooks\u001b[0m\u001b[1;33m.\u001b[0m\u001b[0mvalues\u001b[0m\u001b[1;33m(\u001b[0m\u001b[1;33m)\u001b[0m\u001b[1;33m:\u001b[0m\u001b[1;33m\u001b[0m\u001b[1;33m\u001b[0m\u001b[0m\n\u001b[0;32m    552\u001b[0m             \u001b[0mhook_result\u001b[0m \u001b[1;33m=\u001b[0m \u001b[0mhook\u001b[0m\u001b[1;33m(\u001b[0m\u001b[0mself\u001b[0m\u001b[1;33m,\u001b[0m \u001b[0minput\u001b[0m\u001b[1;33m,\u001b[0m \u001b[0mresult\u001b[0m\u001b[1;33m)\u001b[0m\u001b[1;33m\u001b[0m\u001b[1;33m\u001b[0m\u001b[0m\n",
      "\u001b[1;32m<ipython-input-525-36cc1c3258bd>\u001b[0m in \u001b[0;36mforward\u001b[1;34m(self, x)\u001b[0m\n\u001b[0;32m      6\u001b[0m         \u001b[0mself\u001b[0m\u001b[1;33m.\u001b[0m\u001b[0mlinear3\u001b[0m \u001b[1;33m=\u001b[0m \u001b[0mtorch\u001b[0m\u001b[1;33m.\u001b[0m\u001b[0mnn\u001b[0m\u001b[1;33m.\u001b[0m\u001b[0mLinear\u001b[0m\u001b[1;33m(\u001b[0m\u001b[0mwidth_2\u001b[0m\u001b[1;33m,\u001b[0m \u001b[0moutput_size\u001b[0m\u001b[1;33m)\u001b[0m\u001b[1;33m\u001b[0m\u001b[1;33m\u001b[0m\u001b[0m\n\u001b[0;32m      7\u001b[0m     \u001b[1;32mdef\u001b[0m \u001b[0mforward\u001b[0m\u001b[1;33m(\u001b[0m\u001b[0mself\u001b[0m\u001b[1;33m,\u001b[0m \u001b[0mx\u001b[0m\u001b[1;33m)\u001b[0m\u001b[1;33m:\u001b[0m\u001b[1;33m\u001b[0m\u001b[1;33m\u001b[0m\u001b[0m\n\u001b[1;32m----> 8\u001b[1;33m         \u001b[0mx\u001b[0m \u001b[1;33m=\u001b[0m \u001b[0mF\u001b[0m\u001b[1;33m.\u001b[0m\u001b[0mrelu\u001b[0m\u001b[1;33m(\u001b[0m\u001b[0mself\u001b[0m\u001b[1;33m.\u001b[0m\u001b[0mlinear1\u001b[0m\u001b[1;33m(\u001b[0m\u001b[0mx\u001b[0m\u001b[1;33m)\u001b[0m\u001b[1;33m)\u001b[0m\u001b[1;33m\u001b[0m\u001b[1;33m\u001b[0m\u001b[0m\n\u001b[0m\u001b[0;32m      9\u001b[0m         \u001b[0mx\u001b[0m \u001b[1;33m=\u001b[0m \u001b[0mF\u001b[0m\u001b[1;33m.\u001b[0m\u001b[0mrelu\u001b[0m\u001b[1;33m(\u001b[0m\u001b[0mself\u001b[0m\u001b[1;33m.\u001b[0m\u001b[0mlinear2\u001b[0m\u001b[1;33m(\u001b[0m\u001b[0mx\u001b[0m\u001b[1;33m)\u001b[0m\u001b[1;33m)\u001b[0m\u001b[1;33m\u001b[0m\u001b[1;33m\u001b[0m\u001b[0m\n\u001b[0;32m     10\u001b[0m         \u001b[0mx\u001b[0m \u001b[1;33m=\u001b[0m \u001b[0mF\u001b[0m\u001b[1;33m.\u001b[0m\u001b[0msigmoid\u001b[0m\u001b[1;33m(\u001b[0m\u001b[0mself\u001b[0m\u001b[1;33m.\u001b[0m\u001b[0mlinear3\u001b[0m\u001b[1;33m(\u001b[0m\u001b[0mx\u001b[0m\u001b[1;33m)\u001b[0m\u001b[1;33m)\u001b[0m\u001b[1;33m\u001b[0m\u001b[1;33m\u001b[0m\u001b[0m\n",
      "\u001b[1;32m~\\.conda\\envs\\koreauniv\\lib\\site-packages\\torch\\nn\\modules\\module.py\u001b[0m in \u001b[0;36m__call__\u001b[1;34m(self, *input, **kwargs)\u001b[0m\n\u001b[0;32m    548\u001b[0m             \u001b[0mresult\u001b[0m \u001b[1;33m=\u001b[0m \u001b[0mself\u001b[0m\u001b[1;33m.\u001b[0m\u001b[0m_slow_forward\u001b[0m\u001b[1;33m(\u001b[0m\u001b[1;33m*\u001b[0m\u001b[0minput\u001b[0m\u001b[1;33m,\u001b[0m \u001b[1;33m**\u001b[0m\u001b[0mkwargs\u001b[0m\u001b[1;33m)\u001b[0m\u001b[1;33m\u001b[0m\u001b[1;33m\u001b[0m\u001b[0m\n\u001b[0;32m    549\u001b[0m         \u001b[1;32melse\u001b[0m\u001b[1;33m:\u001b[0m\u001b[1;33m\u001b[0m\u001b[1;33m\u001b[0m\u001b[0m\n\u001b[1;32m--> 550\u001b[1;33m             \u001b[0mresult\u001b[0m \u001b[1;33m=\u001b[0m \u001b[0mself\u001b[0m\u001b[1;33m.\u001b[0m\u001b[0mforward\u001b[0m\u001b[1;33m(\u001b[0m\u001b[1;33m*\u001b[0m\u001b[0minput\u001b[0m\u001b[1;33m,\u001b[0m \u001b[1;33m**\u001b[0m\u001b[0mkwargs\u001b[0m\u001b[1;33m)\u001b[0m\u001b[1;33m\u001b[0m\u001b[1;33m\u001b[0m\u001b[0m\n\u001b[0m\u001b[0;32m    551\u001b[0m         \u001b[1;32mfor\u001b[0m \u001b[0mhook\u001b[0m \u001b[1;32min\u001b[0m \u001b[0mself\u001b[0m\u001b[1;33m.\u001b[0m\u001b[0m_forward_hooks\u001b[0m\u001b[1;33m.\u001b[0m\u001b[0mvalues\u001b[0m\u001b[1;33m(\u001b[0m\u001b[1;33m)\u001b[0m\u001b[1;33m:\u001b[0m\u001b[1;33m\u001b[0m\u001b[1;33m\u001b[0m\u001b[0m\n\u001b[0;32m    552\u001b[0m             \u001b[0mhook_result\u001b[0m \u001b[1;33m=\u001b[0m \u001b[0mhook\u001b[0m\u001b[1;33m(\u001b[0m\u001b[0mself\u001b[0m\u001b[1;33m,\u001b[0m \u001b[0minput\u001b[0m\u001b[1;33m,\u001b[0m \u001b[0mresult\u001b[0m\u001b[1;33m)\u001b[0m\u001b[1;33m\u001b[0m\u001b[1;33m\u001b[0m\u001b[0m\n",
      "\u001b[1;32m~\\.conda\\envs\\koreauniv\\lib\\site-packages\\torch\\nn\\modules\\linear.py\u001b[0m in \u001b[0;36mforward\u001b[1;34m(self, input)\u001b[0m\n\u001b[0;32m     85\u001b[0m \u001b[1;33m\u001b[0m\u001b[0m\n\u001b[0;32m     86\u001b[0m     \u001b[1;32mdef\u001b[0m \u001b[0mforward\u001b[0m\u001b[1;33m(\u001b[0m\u001b[0mself\u001b[0m\u001b[1;33m,\u001b[0m \u001b[0minput\u001b[0m\u001b[1;33m)\u001b[0m\u001b[1;33m:\u001b[0m\u001b[1;33m\u001b[0m\u001b[1;33m\u001b[0m\u001b[0m\n\u001b[1;32m---> 87\u001b[1;33m         \u001b[1;32mreturn\u001b[0m \u001b[0mF\u001b[0m\u001b[1;33m.\u001b[0m\u001b[0mlinear\u001b[0m\u001b[1;33m(\u001b[0m\u001b[0minput\u001b[0m\u001b[1;33m,\u001b[0m \u001b[0mself\u001b[0m\u001b[1;33m.\u001b[0m\u001b[0mweight\u001b[0m\u001b[1;33m,\u001b[0m \u001b[0mself\u001b[0m\u001b[1;33m.\u001b[0m\u001b[0mbias\u001b[0m\u001b[1;33m)\u001b[0m\u001b[1;33m\u001b[0m\u001b[1;33m\u001b[0m\u001b[0m\n\u001b[0m\u001b[0;32m     88\u001b[0m \u001b[1;33m\u001b[0m\u001b[0m\n\u001b[0;32m     89\u001b[0m     \u001b[1;32mdef\u001b[0m \u001b[0mextra_repr\u001b[0m\u001b[1;33m(\u001b[0m\u001b[0mself\u001b[0m\u001b[1;33m)\u001b[0m\u001b[1;33m:\u001b[0m\u001b[1;33m\u001b[0m\u001b[1;33m\u001b[0m\u001b[0m\n",
      "\u001b[1;32m~\\.conda\\envs\\koreauniv\\lib\\site-packages\\torch\\nn\\functional.py\u001b[0m in \u001b[0;36mlinear\u001b[1;34m(input, weight, bias)\u001b[0m\n\u001b[0;32m   1608\u001b[0m     \u001b[1;32mif\u001b[0m \u001b[0minput\u001b[0m\u001b[1;33m.\u001b[0m\u001b[0mdim\u001b[0m\u001b[1;33m(\u001b[0m\u001b[1;33m)\u001b[0m \u001b[1;33m==\u001b[0m \u001b[1;36m2\u001b[0m \u001b[1;32mand\u001b[0m \u001b[0mbias\u001b[0m \u001b[1;32mis\u001b[0m \u001b[1;32mnot\u001b[0m \u001b[1;32mNone\u001b[0m\u001b[1;33m:\u001b[0m\u001b[1;33m\u001b[0m\u001b[1;33m\u001b[0m\u001b[0m\n\u001b[0;32m   1609\u001b[0m         \u001b[1;31m# fused op is marginally faster\u001b[0m\u001b[1;33m\u001b[0m\u001b[1;33m\u001b[0m\u001b[1;33m\u001b[0m\u001b[0m\n\u001b[1;32m-> 1610\u001b[1;33m         \u001b[0mret\u001b[0m \u001b[1;33m=\u001b[0m \u001b[0mtorch\u001b[0m\u001b[1;33m.\u001b[0m\u001b[0maddmm\u001b[0m\u001b[1;33m(\u001b[0m\u001b[0mbias\u001b[0m\u001b[1;33m,\u001b[0m \u001b[0minput\u001b[0m\u001b[1;33m,\u001b[0m \u001b[0mweight\u001b[0m\u001b[1;33m.\u001b[0m\u001b[0mt\u001b[0m\u001b[1;33m(\u001b[0m\u001b[1;33m)\u001b[0m\u001b[1;33m)\u001b[0m\u001b[1;33m\u001b[0m\u001b[1;33m\u001b[0m\u001b[0m\n\u001b[0m\u001b[0;32m   1611\u001b[0m     \u001b[1;32melse\u001b[0m\u001b[1;33m:\u001b[0m\u001b[1;33m\u001b[0m\u001b[1;33m\u001b[0m\u001b[0m\n\u001b[0;32m   1612\u001b[0m         \u001b[0moutput\u001b[0m \u001b[1;33m=\u001b[0m \u001b[0minput\u001b[0m\u001b[1;33m.\u001b[0m\u001b[0mmatmul\u001b[0m\u001b[1;33m(\u001b[0m\u001b[0mweight\u001b[0m\u001b[1;33m.\u001b[0m\u001b[0mt\u001b[0m\u001b[1;33m(\u001b[0m\u001b[1;33m)\u001b[0m\u001b[1;33m)\u001b[0m\u001b[1;33m\u001b[0m\u001b[1;33m\u001b[0m\u001b[0m\n",
      "\u001b[1;31mKeyboardInterrupt\u001b[0m: "
     ]
    }
   ],
   "source": [
    "loss_list = []\n",
    "accuracy_list =[]\n",
    "for epoch in range(150):\n",
    "    running_loss = 0.0\n",
    "    for i, data in enumerate(trainloader, 0):\n",
    "        inputs, labels = data\n",
    "        inputs = inputs.to(device=device)\n",
    "        labels = labels.to(device=device)\n",
    "\n",
    "        optimizer.zero_grad()\n",
    "\n",
    "        outputs = model(inputs)\n",
    "        loss = criterion(outputs, labels)\n",
    "        loss.backward()\n",
    "        optimizer.step()\n",
    "\n",
    "        running_loss += loss.item()\n",
    "        if i % 2000 == 1999:    # print every 2000 mini-batches\n",
    "            print('[%d, %5d] loss: %.3f' %\n",
    "                  (epoch + 1, i + 1, running_loss / 2000))\n",
    "            loss_list.append(running_loss / 2000)\n",
    "            running_loss = 0.0\n",
    "        if epoch % 10 ==9 and i==0:\n",
    "            accuracy_list.append(accuracy_checker())\n",
    "            \n",
    "print('Finished Training')"
   ]
  },
  {
   "cell_type": "code",
   "execution_count": 510,
   "metadata": {
    "tags": [
     "outputPrepend",
     "outputPrepend",
     "outputPrepend",
     "outputPrepend",
     "outputPrepend",
     "outputPrepend",
     "outputPrepend",
     "outputPrepend",
     "outputPrepend",
     "outputPrepend",
     "outputPrepend",
     "outputPrepend",
     "outputPrepend",
     "outputPrepend",
     "outputPrepend",
     "outputPrepend",
     "outputPrepend",
     "outputPrepend",
     "outputPrepend",
     "outputPrepend",
     "outputPrepend",
     "outputPrepend",
     "outputPrepend",
     "outputPrepend",
     "outputPrepend",
     "outputPrepend",
     "outputPrepend",
     "outputPrepend",
     "outputPrepend",
     "outputPrepend",
     "outputPrepend",
     "outputPrepend",
     "outputPrepend",
     "outputPrepend"
    ]
   },
   "outputs": [
    {
     "output_type": "stream",
     "name": "stdout",
     "text": "Accuracy of the network on the trainset: 83 %\n115756 139242\nAccuracy of the network on the testset: 83 %\n60758 60758\n"
    },
    {
     "output_type": "execute_result",
     "data": {
      "text/plain": "(0.8313296275549044, 0.8319069093781889)"
     },
     "metadata": {},
     "execution_count": 510
    }
   ],
   "source": [
    "accuracy_checker()"
   ]
  },
  {
   "cell_type": "markdown",
   "metadata": {},
   "source": [
    "# Learning curve, accuracy curve"
   ]
  },
  {
   "cell_type": "code",
   "execution_count": null,
   "metadata": {},
   "outputs": [],
   "source": [
    "fig1, ax1 = plt.subplots()\n",
    "ax1.plot(loss_list)\n",
    "fig1.suptitle('Loss Curve')\n",
    "fig2, ax2= plt.subplots()\n",
    "ax2.plot(accuracy_list[:,0], label='train', c='r')\n",
    "ax2.plot(accuracy_list[:,1], label='test', c='b')\n",
    "ax2.legend(loc='best')\n",
    "fig2.suptitle(\"Accuracy Curve\")\n",
    "plt.show()"
   ]
  }
 ],
 "metadata": {
  "language_info": {
   "codemirror_mode": {
    "name": "ipython",
    "version": 3
   },
   "file_extension": ".py",
   "mimetype": "text/x-python",
   "name": "python",
   "nbconvert_exporter": "python",
   "pygments_lexer": "ipython3",
   "version": "3.7.7-final"
  },
  "orig_nbformat": 2,
  "kernelspec": {
   "name": "python37764bitkoreaunivconda4dd430c95f3447b38c0c3676607cbdeb",
   "display_name": "Python 3.7.7 64-bit ('koreauniv': conda)"
  }
 },
 "nbformat": 4,
 "nbformat_minor": 2
}