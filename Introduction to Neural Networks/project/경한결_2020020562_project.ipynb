{
 "cells": [
  {
   "cell_type": "markdown",
   "metadata": {},
   "source": [
    "# Import base libraries"
   ]
  },
  {
   "cell_type": "code",
   "execution_count": 175,
   "metadata": {},
   "outputs": [],
   "source": [
    "import numpy as np\n",
    "import pandas as pd\n",
    "import matplotlib.pyplot as pyplot\n",
    "import torch\n",
    "import torch.nn as nn\n",
    "import torch.nn.functional as F\n"
   ]
  },
  {
   "cell_type": "markdown",
   "metadata": {},
   "source": [
    "# Read Dota2 match data from csv file"
   ]
  },
  {
   "cell_type": "code",
   "execution_count": 176,
   "metadata": {},
   "outputs": [
    {
     "output_type": "execute_result",
     "data": {
      "text/plain": "   camps_stacked  denies  last_hits  assists  deaths  kills    match_id  \\\n0             33       4         56       21       5      2  5465684523   \n1             32       0         61       11       8      0  5341713652   \n2             32       0         25       19       2      0  3276678806   \n3             31       2        101       19       4      0  5250431775   \n4             29       0         69       17       7      2  4777319992   \n\n   start_time    win  hero_id  account_id  \\\n0  1591890200   True       90   326177197   \n1  1586337968  False       90   319405932   \n2  1498544603   True       30    86772934   \n3  1582116657  False       90  1058332010   \n4  1558620545  False       75   186575040   \n\n                                   leaguename  \n0  GamaGames - Season 4 Professional - Part 2  \n1                         Masters  Tournament  \n2                      The International 2017  \n3                      Asia Challenger league  \n4                                TNG League 1  ",
      "text/html": "<div>\n<style scoped>\n    .dataframe tbody tr th:only-of-type {\n        vertical-align: middle;\n    }\n\n    .dataframe tbody tr th {\n        vertical-align: top;\n    }\n\n    .dataframe thead th {\n        text-align: right;\n    }\n</style>\n<table border=\"1\" class=\"dataframe\">\n  <thead>\n    <tr style=\"text-align: right;\">\n      <th></th>\n      <th>camps_stacked</th>\n      <th>denies</th>\n      <th>last_hits</th>\n      <th>assists</th>\n      <th>deaths</th>\n      <th>kills</th>\n      <th>match_id</th>\n      <th>start_time</th>\n      <th>win</th>\n      <th>hero_id</th>\n      <th>account_id</th>\n      <th>leaguename</th>\n    </tr>\n  </thead>\n  <tbody>\n    <tr>\n      <th>0</th>\n      <td>33</td>\n      <td>4</td>\n      <td>56</td>\n      <td>21</td>\n      <td>5</td>\n      <td>2</td>\n      <td>5465684523</td>\n      <td>1591890200</td>\n      <td>True</td>\n      <td>90</td>\n      <td>326177197</td>\n      <td>GamaGames - Season 4 Professional - Part 2</td>\n    </tr>\n    <tr>\n      <th>1</th>\n      <td>32</td>\n      <td>0</td>\n      <td>61</td>\n      <td>11</td>\n      <td>8</td>\n      <td>0</td>\n      <td>5341713652</td>\n      <td>1586337968</td>\n      <td>False</td>\n      <td>90</td>\n      <td>319405932</td>\n      <td>Masters  Tournament</td>\n    </tr>\n    <tr>\n      <th>2</th>\n      <td>32</td>\n      <td>0</td>\n      <td>25</td>\n      <td>19</td>\n      <td>2</td>\n      <td>0</td>\n      <td>3276678806</td>\n      <td>1498544603</td>\n      <td>True</td>\n      <td>30</td>\n      <td>86772934</td>\n      <td>The International 2017</td>\n    </tr>\n    <tr>\n      <th>3</th>\n      <td>31</td>\n      <td>2</td>\n      <td>101</td>\n      <td>19</td>\n      <td>4</td>\n      <td>0</td>\n      <td>5250431775</td>\n      <td>1582116657</td>\n      <td>False</td>\n      <td>90</td>\n      <td>1058332010</td>\n      <td>Asia Challenger league</td>\n    </tr>\n    <tr>\n      <th>4</th>\n      <td>29</td>\n      <td>0</td>\n      <td>69</td>\n      <td>17</td>\n      <td>7</td>\n      <td>2</td>\n      <td>4777319992</td>\n      <td>1558620545</td>\n      <td>False</td>\n      <td>75</td>\n      <td>186575040</td>\n      <td>TNG League 1</td>\n    </tr>\n  </tbody>\n</table>\n</div>"
     },
     "metadata": {},
     "execution_count": 176
    }
   ],
   "source": [
    "doto_match_df = pd.read_csv(\"./data.csv\")\n",
    "doto_match_df.head()"
   ]
  },
  {
   "cell_type": "markdown",
   "metadata": {},
   "source": [
    "# Reorder data & delete useless column  \n",
    "start_time is not related to win,league name and account_id is limited, result in worse performance"
   ]
  },
  {
   "cell_type": "code",
   "execution_count": 177,
   "metadata": {},
   "outputs": [
    {
     "output_type": "execute_result",
     "data": {
      "text/plain": "     match_id    win  kills  deaths  assists  last_hits  denies  \\\n0  5465684523   True      2       5       21         56       4   \n1  5341713652  False      0       8       11         61       0   \n2  3276678806   True      0       2       19         25       0   \n3  5250431775  False      0       4       19        101       2   \n4  4777319992  False      2       7       17         69       0   \n\n   camps_stacked  hero_id  \n0             33       90  \n1             32       90  \n2             32       30  \n3             31       90  \n4             29       75  ",
      "text/html": "<div>\n<style scoped>\n    .dataframe tbody tr th:only-of-type {\n        vertical-align: middle;\n    }\n\n    .dataframe tbody tr th {\n        vertical-align: top;\n    }\n\n    .dataframe thead th {\n        text-align: right;\n    }\n</style>\n<table border=\"1\" class=\"dataframe\">\n  <thead>\n    <tr style=\"text-align: right;\">\n      <th></th>\n      <th>match_id</th>\n      <th>win</th>\n      <th>kills</th>\n      <th>deaths</th>\n      <th>assists</th>\n      <th>last_hits</th>\n      <th>denies</th>\n      <th>camps_stacked</th>\n      <th>hero_id</th>\n    </tr>\n  </thead>\n  <tbody>\n    <tr>\n      <th>0</th>\n      <td>5465684523</td>\n      <td>True</td>\n      <td>2</td>\n      <td>5</td>\n      <td>21</td>\n      <td>56</td>\n      <td>4</td>\n      <td>33</td>\n      <td>90</td>\n    </tr>\n    <tr>\n      <th>1</th>\n      <td>5341713652</td>\n      <td>False</td>\n      <td>0</td>\n      <td>8</td>\n      <td>11</td>\n      <td>61</td>\n      <td>0</td>\n      <td>32</td>\n      <td>90</td>\n    </tr>\n    <tr>\n      <th>2</th>\n      <td>3276678806</td>\n      <td>True</td>\n      <td>0</td>\n      <td>2</td>\n      <td>19</td>\n      <td>25</td>\n      <td>0</td>\n      <td>32</td>\n      <td>30</td>\n    </tr>\n    <tr>\n      <th>3</th>\n      <td>5250431775</td>\n      <td>False</td>\n      <td>0</td>\n      <td>4</td>\n      <td>19</td>\n      <td>101</td>\n      <td>2</td>\n      <td>31</td>\n      <td>90</td>\n    </tr>\n    <tr>\n      <th>4</th>\n      <td>4777319992</td>\n      <td>False</td>\n      <td>2</td>\n      <td>7</td>\n      <td>17</td>\n      <td>69</td>\n      <td>0</td>\n      <td>29</td>\n      <td>75</td>\n    </tr>\n  </tbody>\n</table>\n</div>"
     },
     "metadata": {},
     "execution_count": 177
    }
   ],
   "source": [
    "doto_match_df = doto_match_df[['match_id', 'win', 'kills', 'deaths', 'assists', 'last_hits', 'denies', 'camps_stacked', 'hero_id']]\n",
    "doto_match_df.head()"
   ]
  },
  {
   "cell_type": "code",
   "execution_count": 178,
   "metadata": {},
   "outputs": [
    {
     "output_type": "stream",
     "name": "stdout",
     "text": "1\n129\n"
    }
   ],
   "source": [
    "print(doto_match_df.hero_id.min())\n",
    "print(doto_match_df.hero_id.max())"
   ]
  },
  {
   "cell_type": "markdown",
   "metadata": {},
   "source": [
    "# one-hot encode hero_id  \n",
    "As hero_id is index, not numerical value, it has to be encoded"
   ]
  },
  {
   "cell_type": "code",
   "execution_count": 179,
   "metadata": {},
   "outputs": [
    {
     "output_type": "stream",
     "name": "stdout",
     "text": "(200000, 127)\n"
    }
   ],
   "source": [
    "doto_match_df = pd.get_dummies(doto_match_df, columns=['hero_id'])\n",
    "print(doto_match_df.shape)"
   ]
  },
  {
   "cell_type": "markdown",
   "metadata": {},
   "source": [
    "# Split data using match_id  \n",
    "since match_id is independent to win, use it to split and drop it"
   ]
  },
  {
   "cell_type": "code",
   "execution_count": 180,
   "metadata": {},
   "outputs": [
    {
     "output_type": "stream",
     "name": "stdout",
     "text": "(139242, 126) (60758, 126)\n"
    }
   ],
   "source": [
    "doto_match_train = doto_match_df[doto_match_df.match_id % 10 < 7]\n",
    "doto_match_test = doto_match_df[doto_match_df.match_id % 10 >= 7]\n",
    "doto_match_train = doto_match_train.drop('match_id', axis=1)\n",
    "doto_match_test = doto_match_test.drop('match_id', axis=1)\n",
    "print(doto_match_train.shape, doto_match_test.shape)"
   ]
  },
  {
   "cell_type": "code",
   "execution_count": 181,
   "metadata": {},
   "outputs": [
    {
     "output_type": "execute_result",
     "data": {
      "text/plain": "     win  kills  deaths  assists  last_hits  denies  camps_stacked  hero_id_1  \\\n0   True      2       5       21         56       4             33          0   \n1  False      0       8       11         61       0             32          0   \n2   True      0       2       19         25       0             32          0   \n3  False      0       4       19        101       2             31          0   \n4  False      2       7       17         69       0             29          0   \n\n   hero_id_2  hero_id_3  ...  hero_id_111  hero_id_112  hero_id_113  \\\n0          0          0  ...            0            0            0   \n1          0          0  ...            0            0            0   \n2          0          0  ...            0            0            0   \n3          0          0  ...            0            0            0   \n4          0          0  ...            0            0            0   \n\n   hero_id_114  hero_id_119  hero_id_120  hero_id_121  hero_id_126  \\\n0            0            0            0            0            0   \n1            0            0            0            0            0   \n2            0            0            0            0            0   \n3            0            0            0            0            0   \n4            0            0            0            0            0   \n\n   hero_id_128  hero_id_129  \n0            0            0  \n1            0            0  \n2            0            0  \n3            0            0  \n4            0            0  \n\n[5 rows x 126 columns]",
      "text/html": "<div>\n<style scoped>\n    .dataframe tbody tr th:only-of-type {\n        vertical-align: middle;\n    }\n\n    .dataframe tbody tr th {\n        vertical-align: top;\n    }\n\n    .dataframe thead th {\n        text-align: right;\n    }\n</style>\n<table border=\"1\" class=\"dataframe\">\n  <thead>\n    <tr style=\"text-align: right;\">\n      <th></th>\n      <th>win</th>\n      <th>kills</th>\n      <th>deaths</th>\n      <th>assists</th>\n      <th>last_hits</th>\n      <th>denies</th>\n      <th>camps_stacked</th>\n      <th>hero_id_1</th>\n      <th>hero_id_2</th>\n      <th>hero_id_3</th>\n      <th>...</th>\n      <th>hero_id_111</th>\n      <th>hero_id_112</th>\n      <th>hero_id_113</th>\n      <th>hero_id_114</th>\n      <th>hero_id_119</th>\n      <th>hero_id_120</th>\n      <th>hero_id_121</th>\n      <th>hero_id_126</th>\n      <th>hero_id_128</th>\n      <th>hero_id_129</th>\n    </tr>\n  </thead>\n  <tbody>\n    <tr>\n      <th>0</th>\n      <td>True</td>\n      <td>2</td>\n      <td>5</td>\n      <td>21</td>\n      <td>56</td>\n      <td>4</td>\n      <td>33</td>\n      <td>0</td>\n      <td>0</td>\n      <td>0</td>\n      <td>...</td>\n      <td>0</td>\n      <td>0</td>\n      <td>0</td>\n      <td>0</td>\n      <td>0</td>\n      <td>0</td>\n      <td>0</td>\n      <td>0</td>\n      <td>0</td>\n      <td>0</td>\n    </tr>\n    <tr>\n      <th>1</th>\n      <td>False</td>\n      <td>0</td>\n      <td>8</td>\n      <td>11</td>\n      <td>61</td>\n      <td>0</td>\n      <td>32</td>\n      <td>0</td>\n      <td>0</td>\n      <td>0</td>\n      <td>...</td>\n      <td>0</td>\n      <td>0</td>\n      <td>0</td>\n      <td>0</td>\n      <td>0</td>\n      <td>0</td>\n      <td>0</td>\n      <td>0</td>\n      <td>0</td>\n      <td>0</td>\n    </tr>\n    <tr>\n      <th>2</th>\n      <td>True</td>\n      <td>0</td>\n      <td>2</td>\n      <td>19</td>\n      <td>25</td>\n      <td>0</td>\n      <td>32</td>\n      <td>0</td>\n      <td>0</td>\n      <td>0</td>\n      <td>...</td>\n      <td>0</td>\n      <td>0</td>\n      <td>0</td>\n      <td>0</td>\n      <td>0</td>\n      <td>0</td>\n      <td>0</td>\n      <td>0</td>\n      <td>0</td>\n      <td>0</td>\n    </tr>\n    <tr>\n      <th>3</th>\n      <td>False</td>\n      <td>0</td>\n      <td>4</td>\n      <td>19</td>\n      <td>101</td>\n      <td>2</td>\n      <td>31</td>\n      <td>0</td>\n      <td>0</td>\n      <td>0</td>\n      <td>...</td>\n      <td>0</td>\n      <td>0</td>\n      <td>0</td>\n      <td>0</td>\n      <td>0</td>\n      <td>0</td>\n      <td>0</td>\n      <td>0</td>\n      <td>0</td>\n      <td>0</td>\n    </tr>\n    <tr>\n      <th>4</th>\n      <td>False</td>\n      <td>2</td>\n      <td>7</td>\n      <td>17</td>\n      <td>69</td>\n      <td>0</td>\n      <td>29</td>\n      <td>0</td>\n      <td>0</td>\n      <td>0</td>\n      <td>...</td>\n      <td>0</td>\n      <td>0</td>\n      <td>0</td>\n      <td>0</td>\n      <td>0</td>\n      <td>0</td>\n      <td>0</td>\n      <td>0</td>\n      <td>0</td>\n      <td>0</td>\n    </tr>\n  </tbody>\n</table>\n<p>5 rows × 126 columns</p>\n</div>"
     },
     "metadata": {},
     "execution_count": 181
    }
   ],
   "source": [
    "doto_match_train.head()"
   ]
  },
  {
   "cell_type": "code",
   "execution_count": 182,
   "metadata": {},
   "outputs": [
    {
     "output_type": "execute_result",
     "data": {
      "text/plain": "      win  kills  deaths  assists  last_hits  denies  camps_stacked  \\\n10   True      1      13       11         43       1             24   \n12  False      1       5        5        154       2             23   \n19  False      1       6        9         45       1             22   \n22   True      2       9       16         30       0             22   \n24   True      1       5       13         45       3             21   \n\n    hero_id_1  hero_id_2  hero_id_3  ...  hero_id_111  hero_id_112  \\\n10          0          0          0  ...            0            0   \n12          0          0          0  ...            0            0   \n19          0          0          0  ...            0            0   \n22          0          0          0  ...            0            0   \n24          0          0          0  ...            0            0   \n\n    hero_id_113  hero_id_114  hero_id_119  hero_id_120  hero_id_121  \\\n10            0            0            0            0            0   \n12            0            0            0            0            0   \n19            0            0            0            0            0   \n22            0            0            0            0            0   \n24            0            0            0            0            0   \n\n    hero_id_126  hero_id_128  hero_id_129  \n10            0            0            0  \n12            0            0            0  \n19            0            0            0  \n22            0            0            0  \n24            0            0            0  \n\n[5 rows x 126 columns]",
      "text/html": "<div>\n<style scoped>\n    .dataframe tbody tr th:only-of-type {\n        vertical-align: middle;\n    }\n\n    .dataframe tbody tr th {\n        vertical-align: top;\n    }\n\n    .dataframe thead th {\n        text-align: right;\n    }\n</style>\n<table border=\"1\" class=\"dataframe\">\n  <thead>\n    <tr style=\"text-align: right;\">\n      <th></th>\n      <th>win</th>\n      <th>kills</th>\n      <th>deaths</th>\n      <th>assists</th>\n      <th>last_hits</th>\n      <th>denies</th>\n      <th>camps_stacked</th>\n      <th>hero_id_1</th>\n      <th>hero_id_2</th>\n      <th>hero_id_3</th>\n      <th>...</th>\n      <th>hero_id_111</th>\n      <th>hero_id_112</th>\n      <th>hero_id_113</th>\n      <th>hero_id_114</th>\n      <th>hero_id_119</th>\n      <th>hero_id_120</th>\n      <th>hero_id_121</th>\n      <th>hero_id_126</th>\n      <th>hero_id_128</th>\n      <th>hero_id_129</th>\n    </tr>\n  </thead>\n  <tbody>\n    <tr>\n      <th>10</th>\n      <td>True</td>\n      <td>1</td>\n      <td>13</td>\n      <td>11</td>\n      <td>43</td>\n      <td>1</td>\n      <td>24</td>\n      <td>0</td>\n      <td>0</td>\n      <td>0</td>\n      <td>...</td>\n      <td>0</td>\n      <td>0</td>\n      <td>0</td>\n      <td>0</td>\n      <td>0</td>\n      <td>0</td>\n      <td>0</td>\n      <td>0</td>\n      <td>0</td>\n      <td>0</td>\n    </tr>\n    <tr>\n      <th>12</th>\n      <td>False</td>\n      <td>1</td>\n      <td>5</td>\n      <td>5</td>\n      <td>154</td>\n      <td>2</td>\n      <td>23</td>\n      <td>0</td>\n      <td>0</td>\n      <td>0</td>\n      <td>...</td>\n      <td>0</td>\n      <td>0</td>\n      <td>0</td>\n      <td>0</td>\n      <td>0</td>\n      <td>0</td>\n      <td>0</td>\n      <td>0</td>\n      <td>0</td>\n      <td>0</td>\n    </tr>\n    <tr>\n      <th>19</th>\n      <td>False</td>\n      <td>1</td>\n      <td>6</td>\n      <td>9</td>\n      <td>45</td>\n      <td>1</td>\n      <td>22</td>\n      <td>0</td>\n      <td>0</td>\n      <td>0</td>\n      <td>...</td>\n      <td>0</td>\n      <td>0</td>\n      <td>0</td>\n      <td>0</td>\n      <td>0</td>\n      <td>0</td>\n      <td>0</td>\n      <td>0</td>\n      <td>0</td>\n      <td>0</td>\n    </tr>\n    <tr>\n      <th>22</th>\n      <td>True</td>\n      <td>2</td>\n      <td>9</td>\n      <td>16</td>\n      <td>30</td>\n      <td>0</td>\n      <td>22</td>\n      <td>0</td>\n      <td>0</td>\n      <td>0</td>\n      <td>...</td>\n      <td>0</td>\n      <td>0</td>\n      <td>0</td>\n      <td>0</td>\n      <td>0</td>\n      <td>0</td>\n      <td>0</td>\n      <td>0</td>\n      <td>0</td>\n      <td>0</td>\n    </tr>\n    <tr>\n      <th>24</th>\n      <td>True</td>\n      <td>1</td>\n      <td>5</td>\n      <td>13</td>\n      <td>45</td>\n      <td>3</td>\n      <td>21</td>\n      <td>0</td>\n      <td>0</td>\n      <td>0</td>\n      <td>...</td>\n      <td>0</td>\n      <td>0</td>\n      <td>0</td>\n      <td>0</td>\n      <td>0</td>\n      <td>0</td>\n      <td>0</td>\n      <td>0</td>\n      <td>0</td>\n      <td>0</td>\n    </tr>\n  </tbody>\n</table>\n<p>5 rows × 126 columns</p>\n</div>"
     },
     "metadata": {},
     "execution_count": 182
    }
   ],
   "source": [
    "doto_match_test.head()"
   ]
  },
  {
   "cell_type": "code",
   "execution_count": null,
   "metadata": {},
   "outputs": [],
   "source": []
  }
 ],
 "metadata": {
  "language_info": {
   "codemirror_mode": {
    "name": "ipython",
    "version": 3
   },
   "file_extension": ".py",
   "mimetype": "text/x-python",
   "name": "python",
   "nbconvert_exporter": "python",
   "pygments_lexer": "ipython3",
   "version": "3.7.7-final"
  },
  "orig_nbformat": 2,
  "kernelspec": {
   "name": "python37764bitkoreaunivconda4dd430c95f3447b38c0c3676607cbdeb",
   "display_name": "Python 3.7.7 64-bit ('koreauniv': conda)"
  }
 },
 "nbformat": 4,
 "nbformat_minor": 2
}