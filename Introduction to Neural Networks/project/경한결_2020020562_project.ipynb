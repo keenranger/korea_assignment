{
 "cells": [
  {
   "cell_type": "markdown",
   "metadata": {},
   "source": [
    "# Import base libraries"
   ]
  },
  {
   "cell_type": "code",
   "execution_count": 425,
   "metadata": {},
   "outputs": [],
   "source": [
    "import numpy as np\n",
    "import pandas as pd\n",
    "import matplotlib.pyplot as pyplot\n",
    "import torch\n",
    "import torch.nn as nn\n",
    "import torch.nn.functional as F\n"
   ]
  },
  {
   "cell_type": "markdown",
   "metadata": {},
   "source": [
    "# Read Dota2 match data from csv file"
   ]
  },
  {
   "cell_type": "code",
   "execution_count": 426,
   "metadata": {},
   "outputs": [
    {
     "output_type": "execute_result",
     "data": {
      "text/plain": "   camps_stacked  denies  last_hits  assists  deaths  kills    match_id  \\\n0             33       4         56       21       5      2  5465684523   \n1             32       0         61       11       8      0  5341713652   \n2             32       0         25       19       2      0  3276678806   \n3             31       2        101       19       4      0  5250431775   \n4             29       0         69       17       7      2  4777319992   \n\n   start_time    win  hero_id  account_id  \\\n0  1591890200   True       90   326177197   \n1  1586337968  False       90   319405932   \n2  1498544603   True       30    86772934   \n3  1582116657  False       90  1058332010   \n4  1558620545  False       75   186575040   \n\n                                   leaguename  \n0  GamaGames - Season 4 Professional - Part 2  \n1                         Masters  Tournament  \n2                      The International 2017  \n3                      Asia Challenger league  \n4                                TNG League 1  ",
      "text/html": "<div>\n<style scoped>\n    .dataframe tbody tr th:only-of-type {\n        vertical-align: middle;\n    }\n\n    .dataframe tbody tr th {\n        vertical-align: top;\n    }\n\n    .dataframe thead th {\n        text-align: right;\n    }\n</style>\n<table border=\"1\" class=\"dataframe\">\n  <thead>\n    <tr style=\"text-align: right;\">\n      <th></th>\n      <th>camps_stacked</th>\n      <th>denies</th>\n      <th>last_hits</th>\n      <th>assists</th>\n      <th>deaths</th>\n      <th>kills</th>\n      <th>match_id</th>\n      <th>start_time</th>\n      <th>win</th>\n      <th>hero_id</th>\n      <th>account_id</th>\n      <th>leaguename</th>\n    </tr>\n  </thead>\n  <tbody>\n    <tr>\n      <th>0</th>\n      <td>33</td>\n      <td>4</td>\n      <td>56</td>\n      <td>21</td>\n      <td>5</td>\n      <td>2</td>\n      <td>5465684523</td>\n      <td>1591890200</td>\n      <td>True</td>\n      <td>90</td>\n      <td>326177197</td>\n      <td>GamaGames - Season 4 Professional - Part 2</td>\n    </tr>\n    <tr>\n      <th>1</th>\n      <td>32</td>\n      <td>0</td>\n      <td>61</td>\n      <td>11</td>\n      <td>8</td>\n      <td>0</td>\n      <td>5341713652</td>\n      <td>1586337968</td>\n      <td>False</td>\n      <td>90</td>\n      <td>319405932</td>\n      <td>Masters  Tournament</td>\n    </tr>\n    <tr>\n      <th>2</th>\n      <td>32</td>\n      <td>0</td>\n      <td>25</td>\n      <td>19</td>\n      <td>2</td>\n      <td>0</td>\n      <td>3276678806</td>\n      <td>1498544603</td>\n      <td>True</td>\n      <td>30</td>\n      <td>86772934</td>\n      <td>The International 2017</td>\n    </tr>\n    <tr>\n      <th>3</th>\n      <td>31</td>\n      <td>2</td>\n      <td>101</td>\n      <td>19</td>\n      <td>4</td>\n      <td>0</td>\n      <td>5250431775</td>\n      <td>1582116657</td>\n      <td>False</td>\n      <td>90</td>\n      <td>1058332010</td>\n      <td>Asia Challenger league</td>\n    </tr>\n    <tr>\n      <th>4</th>\n      <td>29</td>\n      <td>0</td>\n      <td>69</td>\n      <td>17</td>\n      <td>7</td>\n      <td>2</td>\n      <td>4777319992</td>\n      <td>1558620545</td>\n      <td>False</td>\n      <td>75</td>\n      <td>186575040</td>\n      <td>TNG League 1</td>\n    </tr>\n  </tbody>\n</table>\n</div>"
     },
     "metadata": {},
     "execution_count": 426
    }
   ],
   "source": [
    "doto_match_df = pd.read_csv(\"./data.csv\")\n",
    "doto_match_df.head()"
   ]
  },
  {
   "cell_type": "markdown",
   "metadata": {},
   "source": [
    "# Check the win rate  \n",
    "You can see data is not biased to win or lose"
   ]
  },
  {
   "cell_type": "code",
   "execution_count": 427,
   "metadata": {},
   "outputs": [
    {
     "output_type": "execute_result",
     "data": {
      "text/plain": "win\nFalse     93642\nTrue     106358\ndtype: int64"
     },
     "metadata": {},
     "execution_count": 427
    }
   ],
   "source": [
    "doto_match_df.groupby('win').size()"
   ]
  },
  {
   "cell_type": "markdown",
   "metadata": {},
   "source": [
    "# Reorder data & delete useless column  \n",
    "start_time is not related to win,league name and account_id is limited, result in worse performance"
   ]
  },
  {
   "cell_type": "code",
   "execution_count": 428,
   "metadata": {},
   "outputs": [
    {
     "output_type": "execute_result",
     "data": {
      "text/plain": "     match_id    win  kills  deaths  assists  last_hits  denies  \\\n0  5465684523   True      2       5       21         56       4   \n1  5341713652  False      0       8       11         61       0   \n2  3276678806   True      0       2       19         25       0   \n3  5250431775  False      0       4       19        101       2   \n4  4777319992  False      2       7       17         69       0   \n\n   camps_stacked  hero_id  \n0             33       90  \n1             32       90  \n2             32       30  \n3             31       90  \n4             29       75  ",
      "text/html": "<div>\n<style scoped>\n    .dataframe tbody tr th:only-of-type {\n        vertical-align: middle;\n    }\n\n    .dataframe tbody tr th {\n        vertical-align: top;\n    }\n\n    .dataframe thead th {\n        text-align: right;\n    }\n</style>\n<table border=\"1\" class=\"dataframe\">\n  <thead>\n    <tr style=\"text-align: right;\">\n      <th></th>\n      <th>match_id</th>\n      <th>win</th>\n      <th>kills</th>\n      <th>deaths</th>\n      <th>assists</th>\n      <th>last_hits</th>\n      <th>denies</th>\n      <th>camps_stacked</th>\n      <th>hero_id</th>\n    </tr>\n  </thead>\n  <tbody>\n    <tr>\n      <th>0</th>\n      <td>5465684523</td>\n      <td>True</td>\n      <td>2</td>\n      <td>5</td>\n      <td>21</td>\n      <td>56</td>\n      <td>4</td>\n      <td>33</td>\n      <td>90</td>\n    </tr>\n    <tr>\n      <th>1</th>\n      <td>5341713652</td>\n      <td>False</td>\n      <td>0</td>\n      <td>8</td>\n      <td>11</td>\n      <td>61</td>\n      <td>0</td>\n      <td>32</td>\n      <td>90</td>\n    </tr>\n    <tr>\n      <th>2</th>\n      <td>3276678806</td>\n      <td>True</td>\n      <td>0</td>\n      <td>2</td>\n      <td>19</td>\n      <td>25</td>\n      <td>0</td>\n      <td>32</td>\n      <td>30</td>\n    </tr>\n    <tr>\n      <th>3</th>\n      <td>5250431775</td>\n      <td>False</td>\n      <td>0</td>\n      <td>4</td>\n      <td>19</td>\n      <td>101</td>\n      <td>2</td>\n      <td>31</td>\n      <td>90</td>\n    </tr>\n    <tr>\n      <th>4</th>\n      <td>4777319992</td>\n      <td>False</td>\n      <td>2</td>\n      <td>7</td>\n      <td>17</td>\n      <td>69</td>\n      <td>0</td>\n      <td>29</td>\n      <td>75</td>\n    </tr>\n  </tbody>\n</table>\n</div>"
     },
     "metadata": {},
     "execution_count": 428
    }
   ],
   "source": [
    "doto_match_df = doto_match_df[['match_id', 'win', 'kills', 'deaths', 'assists', 'last_hits', 'denies', 'camps_stacked', 'hero_id']]\n",
    "doto_match_df.head()"
   ]
  },
  {
   "cell_type": "code",
   "execution_count": 429,
   "metadata": {},
   "outputs": [
    {
     "output_type": "stream",
     "name": "stdout",
     "text": "1\n129\n"
    }
   ],
   "source": [
    "print(doto_match_df.hero_id.min())\n",
    "print(doto_match_df.hero_id.max())"
   ]
  },
  {
   "cell_type": "markdown",
   "metadata": {},
   "source": [
    "# one-hot encode hero_id  \n",
    "As hero_id is index, not numerical value, it has to be encoded"
   ]
  },
  {
   "cell_type": "code",
   "execution_count": 430,
   "metadata": {},
   "outputs": [
    {
     "output_type": "stream",
     "name": "stdout",
     "text": "(200000, 127)\n"
    }
   ],
   "source": [
    "doto_match_df = pd.get_dummies(doto_match_df, columns=['hero_id'])\n",
    "print(doto_match_df.shape)"
   ]
  },
  {
   "cell_type": "markdown",
   "metadata": {},
   "source": [
    "# Split data using match_id  \n",
    "since match_id is independent to win, use it to split and drop it"
   ]
  },
  {
   "cell_type": "code",
   "execution_count": 431,
   "metadata": {},
   "outputs": [
    {
     "output_type": "stream",
     "name": "stdout",
     "text": "(139242, 126) (60758, 126)\n"
    }
   ],
   "source": [
    "doto_match_train = doto_match_df[doto_match_df.match_id % 10 < 7]\n",
    "doto_match_test = doto_match_df[doto_match_df.match_id % 10 >= 7]\n",
    "doto_match_train = doto_match_train.drop('match_id', axis=1)\n",
    "doto_match_test = doto_match_test.drop('match_id', axis=1)\n",
    "print(doto_match_train.shape, doto_match_test.shape)"
   ]
  },
  {
   "cell_type": "code",
   "execution_count": 432,
   "metadata": {},
   "outputs": [
    {
     "output_type": "execute_result",
     "data": {
      "text/plain": "     win  kills  deaths  assists  last_hits  denies  camps_stacked  hero_id_1  \\\n0   True      2       5       21         56       4             33          0   \n1  False      0       8       11         61       0             32          0   \n2   True      0       2       19         25       0             32          0   \n3  False      0       4       19        101       2             31          0   \n4  False      2       7       17         69       0             29          0   \n\n   hero_id_2  hero_id_3  ...  hero_id_111  hero_id_112  hero_id_113  \\\n0          0          0  ...            0            0            0   \n1          0          0  ...            0            0            0   \n2          0          0  ...            0            0            0   \n3          0          0  ...            0            0            0   \n4          0          0  ...            0            0            0   \n\n   hero_id_114  hero_id_119  hero_id_120  hero_id_121  hero_id_126  \\\n0            0            0            0            0            0   \n1            0            0            0            0            0   \n2            0            0            0            0            0   \n3            0            0            0            0            0   \n4            0            0            0            0            0   \n\n   hero_id_128  hero_id_129  \n0            0            0  \n1            0            0  \n2            0            0  \n3            0            0  \n4            0            0  \n\n[5 rows x 126 columns]",
      "text/html": "<div>\n<style scoped>\n    .dataframe tbody tr th:only-of-type {\n        vertical-align: middle;\n    }\n\n    .dataframe tbody tr th {\n        vertical-align: top;\n    }\n\n    .dataframe thead th {\n        text-align: right;\n    }\n</style>\n<table border=\"1\" class=\"dataframe\">\n  <thead>\n    <tr style=\"text-align: right;\">\n      <th></th>\n      <th>win</th>\n      <th>kills</th>\n      <th>deaths</th>\n      <th>assists</th>\n      <th>last_hits</th>\n      <th>denies</th>\n      <th>camps_stacked</th>\n      <th>hero_id_1</th>\n      <th>hero_id_2</th>\n      <th>hero_id_3</th>\n      <th>...</th>\n      <th>hero_id_111</th>\n      <th>hero_id_112</th>\n      <th>hero_id_113</th>\n      <th>hero_id_114</th>\n      <th>hero_id_119</th>\n      <th>hero_id_120</th>\n      <th>hero_id_121</th>\n      <th>hero_id_126</th>\n      <th>hero_id_128</th>\n      <th>hero_id_129</th>\n    </tr>\n  </thead>\n  <tbody>\n    <tr>\n      <th>0</th>\n      <td>True</td>\n      <td>2</td>\n      <td>5</td>\n      <td>21</td>\n      <td>56</td>\n      <td>4</td>\n      <td>33</td>\n      <td>0</td>\n      <td>0</td>\n      <td>0</td>\n      <td>...</td>\n      <td>0</td>\n      <td>0</td>\n      <td>0</td>\n      <td>0</td>\n      <td>0</td>\n      <td>0</td>\n      <td>0</td>\n      <td>0</td>\n      <td>0</td>\n      <td>0</td>\n    </tr>\n    <tr>\n      <th>1</th>\n      <td>False</td>\n      <td>0</td>\n      <td>8</td>\n      <td>11</td>\n      <td>61</td>\n      <td>0</td>\n      <td>32</td>\n      <td>0</td>\n      <td>0</td>\n      <td>0</td>\n      <td>...</td>\n      <td>0</td>\n      <td>0</td>\n      <td>0</td>\n      <td>0</td>\n      <td>0</td>\n      <td>0</td>\n      <td>0</td>\n      <td>0</td>\n      <td>0</td>\n      <td>0</td>\n    </tr>\n    <tr>\n      <th>2</th>\n      <td>True</td>\n      <td>0</td>\n      <td>2</td>\n      <td>19</td>\n      <td>25</td>\n      <td>0</td>\n      <td>32</td>\n      <td>0</td>\n      <td>0</td>\n      <td>0</td>\n      <td>...</td>\n      <td>0</td>\n      <td>0</td>\n      <td>0</td>\n      <td>0</td>\n      <td>0</td>\n      <td>0</td>\n      <td>0</td>\n      <td>0</td>\n      <td>0</td>\n      <td>0</td>\n    </tr>\n    <tr>\n      <th>3</th>\n      <td>False</td>\n      <td>0</td>\n      <td>4</td>\n      <td>19</td>\n      <td>101</td>\n      <td>2</td>\n      <td>31</td>\n      <td>0</td>\n      <td>0</td>\n      <td>0</td>\n      <td>...</td>\n      <td>0</td>\n      <td>0</td>\n      <td>0</td>\n      <td>0</td>\n      <td>0</td>\n      <td>0</td>\n      <td>0</td>\n      <td>0</td>\n      <td>0</td>\n      <td>0</td>\n    </tr>\n    <tr>\n      <th>4</th>\n      <td>False</td>\n      <td>2</td>\n      <td>7</td>\n      <td>17</td>\n      <td>69</td>\n      <td>0</td>\n      <td>29</td>\n      <td>0</td>\n      <td>0</td>\n      <td>0</td>\n      <td>...</td>\n      <td>0</td>\n      <td>0</td>\n      <td>0</td>\n      <td>0</td>\n      <td>0</td>\n      <td>0</td>\n      <td>0</td>\n      <td>0</td>\n      <td>0</td>\n      <td>0</td>\n    </tr>\n  </tbody>\n</table>\n<p>5 rows × 126 columns</p>\n</div>"
     },
     "metadata": {},
     "execution_count": 432
    }
   ],
   "source": [
    "doto_match_train.head()"
   ]
  },
  {
   "cell_type": "code",
   "execution_count": 433,
   "metadata": {},
   "outputs": [
    {
     "output_type": "execute_result",
     "data": {
      "text/plain": "      win  kills  deaths  assists  last_hits  denies  camps_stacked  \\\n10   True      1      13       11         43       1             24   \n12  False      1       5        5        154       2             23   \n19  False      1       6        9         45       1             22   \n22   True      2       9       16         30       0             22   \n24   True      1       5       13         45       3             21   \n\n    hero_id_1  hero_id_2  hero_id_3  ...  hero_id_111  hero_id_112  \\\n10          0          0          0  ...            0            0   \n12          0          0          0  ...            0            0   \n19          0          0          0  ...            0            0   \n22          0          0          0  ...            0            0   \n24          0          0          0  ...            0            0   \n\n    hero_id_113  hero_id_114  hero_id_119  hero_id_120  hero_id_121  \\\n10            0            0            0            0            0   \n12            0            0            0            0            0   \n19            0            0            0            0            0   \n22            0            0            0            0            0   \n24            0            0            0            0            0   \n\n    hero_id_126  hero_id_128  hero_id_129  \n10            0            0            0  \n12            0            0            0  \n19            0            0            0  \n22            0            0            0  \n24            0            0            0  \n\n[5 rows x 126 columns]",
      "text/html": "<div>\n<style scoped>\n    .dataframe tbody tr th:only-of-type {\n        vertical-align: middle;\n    }\n\n    .dataframe tbody tr th {\n        vertical-align: top;\n    }\n\n    .dataframe thead th {\n        text-align: right;\n    }\n</style>\n<table border=\"1\" class=\"dataframe\">\n  <thead>\n    <tr style=\"text-align: right;\">\n      <th></th>\n      <th>win</th>\n      <th>kills</th>\n      <th>deaths</th>\n      <th>assists</th>\n      <th>last_hits</th>\n      <th>denies</th>\n      <th>camps_stacked</th>\n      <th>hero_id_1</th>\n      <th>hero_id_2</th>\n      <th>hero_id_3</th>\n      <th>...</th>\n      <th>hero_id_111</th>\n      <th>hero_id_112</th>\n      <th>hero_id_113</th>\n      <th>hero_id_114</th>\n      <th>hero_id_119</th>\n      <th>hero_id_120</th>\n      <th>hero_id_121</th>\n      <th>hero_id_126</th>\n      <th>hero_id_128</th>\n      <th>hero_id_129</th>\n    </tr>\n  </thead>\n  <tbody>\n    <tr>\n      <th>10</th>\n      <td>True</td>\n      <td>1</td>\n      <td>13</td>\n      <td>11</td>\n      <td>43</td>\n      <td>1</td>\n      <td>24</td>\n      <td>0</td>\n      <td>0</td>\n      <td>0</td>\n      <td>...</td>\n      <td>0</td>\n      <td>0</td>\n      <td>0</td>\n      <td>0</td>\n      <td>0</td>\n      <td>0</td>\n      <td>0</td>\n      <td>0</td>\n      <td>0</td>\n      <td>0</td>\n    </tr>\n    <tr>\n      <th>12</th>\n      <td>False</td>\n      <td>1</td>\n      <td>5</td>\n      <td>5</td>\n      <td>154</td>\n      <td>2</td>\n      <td>23</td>\n      <td>0</td>\n      <td>0</td>\n      <td>0</td>\n      <td>...</td>\n      <td>0</td>\n      <td>0</td>\n      <td>0</td>\n      <td>0</td>\n      <td>0</td>\n      <td>0</td>\n      <td>0</td>\n      <td>0</td>\n      <td>0</td>\n      <td>0</td>\n    </tr>\n    <tr>\n      <th>19</th>\n      <td>False</td>\n      <td>1</td>\n      <td>6</td>\n      <td>9</td>\n      <td>45</td>\n      <td>1</td>\n      <td>22</td>\n      <td>0</td>\n      <td>0</td>\n      <td>0</td>\n      <td>...</td>\n      <td>0</td>\n      <td>0</td>\n      <td>0</td>\n      <td>0</td>\n      <td>0</td>\n      <td>0</td>\n      <td>0</td>\n      <td>0</td>\n      <td>0</td>\n      <td>0</td>\n    </tr>\n    <tr>\n      <th>22</th>\n      <td>True</td>\n      <td>2</td>\n      <td>9</td>\n      <td>16</td>\n      <td>30</td>\n      <td>0</td>\n      <td>22</td>\n      <td>0</td>\n      <td>0</td>\n      <td>0</td>\n      <td>...</td>\n      <td>0</td>\n      <td>0</td>\n      <td>0</td>\n      <td>0</td>\n      <td>0</td>\n      <td>0</td>\n      <td>0</td>\n      <td>0</td>\n      <td>0</td>\n      <td>0</td>\n    </tr>\n    <tr>\n      <th>24</th>\n      <td>True</td>\n      <td>1</td>\n      <td>5</td>\n      <td>13</td>\n      <td>45</td>\n      <td>3</td>\n      <td>21</td>\n      <td>0</td>\n      <td>0</td>\n      <td>0</td>\n      <td>...</td>\n      <td>0</td>\n      <td>0</td>\n      <td>0</td>\n      <td>0</td>\n      <td>0</td>\n      <td>0</td>\n      <td>0</td>\n      <td>0</td>\n      <td>0</td>\n      <td>0</td>\n    </tr>\n  </tbody>\n</table>\n<p>5 rows × 126 columns</p>\n</div>"
     },
     "metadata": {},
     "execution_count": 433
    }
   ],
   "source": [
    "doto_match_test.head()"
   ]
  },
  {
   "cell_type": "code",
   "execution_count": 434,
   "metadata": {},
   "outputs": [],
   "source": [
    "class DotoDataset(torch.utils.data.Dataset):\n",
    "    def __init__(self, df):\n",
    "        self.len = df.shape[0]\n",
    "        self.y_data = torch.from_numpy(df['win'].values).float()\n",
    "        self.y_data = torch.reshape(self.y_data, (-1, 1))\n",
    "        self.x_data = torch.from_numpy(df.drop('win', axis=1).values).float()\n",
    "    def __getitem__(self, index):\n",
    "        return self.x_data[index], self.y_data[index]\n",
    "    \n",
    "    def __len__(self):\n",
    "        return self.len"
   ]
  },
  {
   "cell_type": "code",
   "execution_count": 435,
   "metadata": {},
   "outputs": [],
   "source": [
    "trainset = DotoDataset(doto_match_train)\n",
    "testset = DotoDataset(doto_match_test)"
   ]
  },
  {
   "cell_type": "code",
   "execution_count": 436,
   "metadata": {
    "tags": [
     "outputPrepend",
     "outputPrepend",
     "outputPrepend",
     "outputPrepend",
     "outputPrepend",
     "outputPrepend",
     "outputPrepend",
     "outputPrepend",
     "outputPrepend",
     "outputPrepend",
     "outputPrepend",
     "outputPrepend",
     "outputPrepend",
     "outputPrepend",
     "outputPrepend",
     "outputPrepend",
     "outputPrepend",
     "outputPrepend",
     "outputPrepend",
     "outputPrepend",
     "outputPrepend",
     "outputPrepend",
     "outputPrepend",
     "outputPrepend",
     "outputPrepend",
     "outputPrepend",
     "outputPrepend",
     "outputPrepend",
     "outputPrepend",
     "outputPrepend",
     "outputPrepend",
     "outputPrepend",
     "outputPrepend",
     "outputPrepend",
     "outputPrepend"
    ]
   },
   "outputs": [],
   "source": [
    "trainloader = torch.utils.data.DataLoader(trainset, batch_size=16, shuffle=True, num_workers=0)\n",
    "testloader = torch.utils.data.DataLoader(testset, batch_size=16, shuffle=True, num_workers=0)\n"
   ]
  },
  {
   "cell_type": "markdown",
   "metadata": {},
   "source": [
    "# Make neural network class  \n",
    "Make neural network class using pytorch. input size, width of each layer, output size can be varied."
   ]
  },
  {
   "cell_type": "code",
   "execution_count": 437,
   "metadata": {},
   "outputs": [],
   "source": [
    "class DotoNet(torch.nn.Module):\n",
    "    def __init__(self, input_size, width_1, width_2, output_size):\n",
    "        super().__init__()\n",
    "        self.linear1 = torch.nn.Linear(input_size, width_1)\n",
    "        self.linear2 = torch.nn.Linear(width_1, width_2)\n",
    "        self.linear3 = torch.nn.Linear(width_2, output_size)\n",
    "    def forward(self, x):\n",
    "        x = F.relu(self.linear1(x))\n",
    "        x = F.relu(self.linear2(x))\n",
    "        x = F.sigmoid(self.linear3(x))\n",
    "        return x\n"
   ]
  },
  {
   "cell_type": "markdown",
   "metadata": {},
   "source": [
    "# Check GPU works"
   ]
  },
  {
   "cell_type": "code",
   "execution_count": 438,
   "metadata": {},
   "outputs": [
    {
     "output_type": "stream",
     "name": "stdout",
     "text": "cpu\n"
    }
   ],
   "source": [
    "device = torch.device(\"cuda:0\" if torch.cuda.is_available() else \"cpu\")\n",
    "print(device)"
   ]
  },
  {
   "cell_type": "markdown",
   "metadata": {},
   "source": [
    "# Construct model, loss, optimizer"
   ]
  },
  {
   "cell_type": "code",
   "execution_count": 439,
   "metadata": {},
   "outputs": [],
   "source": [
    "# Construct model for doto\n",
    "model = DotoNet(125, 256, 64, 1)\n",
    "\n",
    "criterion = nn.BCEWithLogitsLoss()\n",
    "optimizer = torch.optim.SGD(model.parameters(), lr=1e-5, momentum=0.9)\n",
    "    "
   ]
  },
  {
   "cell_type": "markdown",
   "metadata": {},
   "source": [
    "# Start training"
   ]
  },
  {
   "cell_type": "code",
   "execution_count": 440,
   "metadata": {},
   "outputs": [
    {
     "output_type": "stream",
     "name": "stdout",
     "text": "[1,  2000] loss: 0.696\n[1,  4000] loss: 0.693\n[1,  6000] loss: 0.692\n[1,  8000] loss: 0.691\n[2,  2000] loss: 0.690\n[2,  4000] loss: 0.689\n[2,  6000] loss: 0.689\n[2,  8000] loss: 0.685\n[3,  2000] loss: 0.685\n[3,  4000] loss: 0.681\n[3,  6000] loss: 0.679\n[3,  8000] loss: 0.677\n[4,  2000] loss: 0.674\n[4,  4000] loss: 0.671\n[4,  6000] loss: 0.667\n[4,  8000] loss: 0.665\n[5,  2000] loss: 0.660\n[5,  4000] loss: 0.654\n[5,  6000] loss: 0.654\n[5,  8000] loss: 0.649\n[6,  2000] loss: 0.643\n[6,  4000] loss: 0.640\n[6,  6000] loss: 0.637\n[6,  8000] loss: 0.633\n[7,  2000] loss: 0.628\n[7,  4000] loss: 0.628\n[7,  6000] loss: 0.620\n[7,  8000] loss: 0.618\n[8,  2000] loss: 0.614\n[8,  4000] loss: 0.614\n[8,  6000] loss: 0.609\n[8,  8000] loss: 0.606\n[9,  2000] loss: 0.604\n[9,  4000] loss: 0.602\n[9,  6000] loss: 0.600\n[9,  8000] loss: 0.598\n[10,  2000] loss: 0.595\n[10,  4000] loss: 0.596\n[10,  6000] loss: 0.592\n[10,  8000] loss: 0.592\n[11,  2000] loss: 0.589\n[11,  4000] loss: 0.589\n[11,  6000] loss: 0.589\n[11,  8000] loss: 0.588\n[12,  2000] loss: 0.588\n[12,  4000] loss: 0.584\n[12,  6000] loss: 0.586\n[12,  8000] loss: 0.583\n[13,  2000] loss: 0.583\n[13,  4000] loss: 0.582\n[13,  6000] loss: 0.583\n[13,  8000] loss: 0.582\n[14,  2000] loss: 0.580\n[14,  4000] loss: 0.582\n[14,  6000] loss: 0.581\n[14,  8000] loss: 0.579\n[15,  2000] loss: 0.579\n[15,  4000] loss: 0.579\n[15,  6000] loss: 0.579\n[15,  8000] loss: 0.578\n[16,  2000] loss: 0.579\n[16,  4000] loss: 0.576\n[16,  6000] loss: 0.577\n[16,  8000] loss: 0.577\n[17,  2000] loss: 0.576\n[17,  4000] loss: 0.577\n[17,  6000] loss: 0.576\n[17,  8000] loss: 0.576\n[18,  2000] loss: 0.578\n[18,  4000] loss: 0.574\n[18,  6000] loss: 0.576\n[18,  8000] loss: 0.573\n[19,  2000] loss: 0.574\n[19,  4000] loss: 0.575\n[19,  6000] loss: 0.575\n[19,  8000] loss: 0.575\n[20,  2000] loss: 0.575\n[20,  4000] loss: 0.573\n[20,  6000] loss: 0.575\n[20,  8000] loss: 0.571\n[21,  2000] loss: 0.573\n[21,  4000] loss: 0.573\n[21,  6000] loss: 0.572\n[21,  8000] loss: 0.574\n[22,  2000] loss: 0.574\n[22,  4000] loss: 0.572\n[22,  6000] loss: 0.572\n[22,  8000] loss: 0.573\n[23,  2000] loss: 0.572\n[23,  4000] loss: 0.570\n[23,  6000] loss: 0.572\n[23,  8000] loss: 0.574\n[24,  2000] loss: 0.573\n[24,  4000] loss: 0.574\n[24,  6000] loss: 0.571\n[24,  8000] loss: 0.569\n[25,  2000] loss: 0.573\n[25,  4000] loss: 0.571\n[25,  6000] loss: 0.570\n[25,  8000] loss: 0.571\n[26,  2000] loss: 0.573\n[26,  4000] loss: 0.570\n[26,  6000] loss: 0.568\n[26,  8000] loss: 0.572\n[27,  2000] loss: 0.572\n[27,  4000] loss: 0.571\n[27,  6000] loss: 0.571\n[27,  8000] loss: 0.569\n[28,  2000] loss: 0.573\n[28,  4000] loss: 0.569\n[28,  6000] loss: 0.570\n[28,  8000] loss: 0.571\n[29,  2000] loss: 0.571\n[29,  4000] loss: 0.570\n[29,  6000] loss: 0.571\n[29,  8000] loss: 0.568\n[30,  2000] loss: 0.570\n[30,  4000] loss: 0.568\n[30,  6000] loss: 0.570\n[30,  8000] loss: 0.571\n[31,  2000] loss: 0.572\n[31,  4000] loss: 0.571\n[31,  6000] loss: 0.568\n[31,  8000] loss: 0.569\n[32,  2000] loss: 0.571\n[32,  4000] loss: 0.569\n[32,  6000] loss: 0.570\n[32,  8000] loss: 0.570\n[33,  2000] loss: 0.571\n[33,  4000] loss: 0.567\n[33,  6000] loss: 0.570\n[33,  8000] loss: 0.571\nFinished Training\n"
    }
   ],
   "source": [
    "for epoch in range(33):\n",
    "    running_loss = 0.0\n",
    "    for i, data in enumerate(trainloader, 0):\n",
    "        inputs, labels = data\n",
    "\n",
    "        optimizer.zero_grad()\n",
    "\n",
    "        outputs = model(inputs)\n",
    "        loss = criterion(outputs, labels)\n",
    "        loss.backward()\n",
    "        optimizer.step()\n",
    "\n",
    "        running_loss += loss.item()\n",
    "        if i % 2000 == 1999:    # print every 2000 mini-batches\n",
    "            print('[%d, %5d] loss: %.3f' %\n",
    "                  (epoch + 1, i + 1, running_loss / 2000))\n",
    "            running_loss = 0.0\n",
    "print('Finished Training')"
   ]
  },
  {
   "cell_type": "code",
   "execution_count": 448,
   "metadata": {
    "tags": [
     "outputPrepend",
     "outputPrepend",
     "outputPrepend",
     "outputPrepend",
     "outputPrepend",
     "outputPrepend",
     "outputPrepend",
     "outputPrepend",
     "outputPrepend",
     "outputPrepend",
     "outputPrepend",
     "outputPrepend",
     "outputPrepend",
     "outputPrepend",
     "outputPrepend",
     "outputPrepend",
     "outputPrepend",
     "outputPrepend",
     "outputPrepend",
     "outputPrepend",
     "outputPrepend",
     "outputPrepend",
     "outputPrepend",
     "outputPrepend",
     "outputPrepend",
     "outputPrepend",
     "outputPrepend",
     "outputPrepend",
     "outputPrepend",
     "outputPrepend",
     "outputPrepend",
     "outputPrepend",
     "outputPrepend",
     "outputPrepend"
    ]
   },
   "outputs": [
    {
     "output_type": "stream",
     "name": "stdout",
     "text": "Accuracy of the network on the trainset: 83 %\n"
    }
   ],
   "source": [
    "correct = 0\n",
    "total = 0\n",
    "with torch.no_grad():\n",
    "    for data in trainloader:\n",
    "        inputs, labels = data\n",
    "        outputs = model(inputs)\n",
    "        predicted = outputs.data>=0.5\n",
    "        total += labels.size(0)\n",
    "        correct += (predicted == labels).sum().item()\n",
    "\n",
    "print('Accuracy of the network on the trainset: %d %%' % (\n",
    "    100 * correct / total))"
   ]
  },
  {
   "cell_type": "code",
   "execution_count": 451,
   "metadata": {
    "tags": [
     "outputPrepend",
     "outputPrepend",
     "outputPrepend",
     "outputPrepend",
     "outputPrepend",
     "outputPrepend",
     "outputPrepend",
     "outputPrepend",
     "outputPrepend",
     "outputPrepend",
     "outputPrepend",
     "outputPrepend",
     "outputPrepend",
     "outputPrepend",
     "outputPrepend",
     "outputPrepend",
     "outputPrepend",
     "outputPrepend"
    ]
   },
   "outputs": [
    {
     "output_type": "stream",
     "name": "stdout",
     "text": "Accuracy of the network on the testset: 83 %\n"
    }
   ],
   "source": [
    "correct = 0\n",
    "total = 0\n",
    "with torch.no_grad():\n",
    "    for data in testloader:\n",
    "        inputs, labels = data\n",
    "        outputs = model(inputs)\n",
    "        predicted = outputs.data>=0.5\n",
    "        total += labels.size(0)\n",
    "        correct += (predicted == labels).sum().item()\n",
    "\n",
    "print('Accuracy of the network on the testset: %d %%' % (\n",
    "    100 * correct / total))"
   ]
  },
  {
   "cell_type": "code",
   "execution_count": null,
   "metadata": {},
   "outputs": [],
   "source": []
  }
 ],
 "metadata": {
  "language_info": {
   "codemirror_mode": {
    "name": "ipython",
    "version": 3
   },
   "file_extension": ".py",
   "mimetype": "text/x-python",
   "name": "python",
   "nbconvert_exporter": "python",
   "pygments_lexer": "ipython3",
   "version": "3.7.7-final"
  },
  "orig_nbformat": 2,
  "kernelspec": {
   "name": "python37764bitkoreaunivconda4dd430c95f3447b38c0c3676607cbdeb",
   "display_name": "Python 3.7.7 64-bit ('koreauniv': conda)"
  }
 },
 "nbformat": 4,
 "nbformat_minor": 2
}