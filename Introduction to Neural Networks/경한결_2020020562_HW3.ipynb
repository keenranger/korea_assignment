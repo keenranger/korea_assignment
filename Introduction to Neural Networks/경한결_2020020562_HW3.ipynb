{
 "cells": [
  {
   "cell_type": "markdown",
   "metadata": {},
   "source": [
    "<div style=\"text-align: right\"> Provided on May 20, Due on June 03 [BRI516, Spring/2020] </div>"
   ]
  },
  {
   "cell_type": "markdown",
   "metadata": {},
   "source": [
    "For homework in general:\n",
    "* Install `Anaconda` and create an environment with `NumPy`, `Pandas`, `Matplotlib`, `scikit-learn`,`scipy` in Python 3.5\n",
    "* Please type the equation and/or text using markdown in jupyter-lab or jupyter-notebook\n",
    "* Please upload your jupyter-notebook file for homework to `Blackboard` \n",
    "* Please discuss your results at least one line of text"
   ]
  },
  {
   "cell_type": "markdown",
   "metadata": {},
   "source": [
    "\n",
    "## [Hw#3] Regression analysis\n",
    "\n",
    "The dataset (X) provided has a very high-dimensional sample (i.e., number of dimension = 60,837) while there is a limited available number of samples (n = 80). \n",
    "\n",
    "The goal is to predict the target scores (y) from the high-dimensional input, X.\n",
    "* Note that, as you know, this problem is very prone to the so-called, curse-of-dimensionality.\n",
    "    * Thus, you would need to put some effort to optimize your model such as using regularizations\n",
    "\n",
    " \n",
    "    "
   ]
  },
  {
   "cell_type": "markdown",
   "metadata": {},
   "source": [
    "----\n",
    "\n",
    "### Now, please perform the following to solve this regression problem.\n",
    "\n",
    "* Please try out at least a few models that you learned in the class and show only the results from your best performing regression model\n",
    "\n"
   ]
  },
  {
   "cell_type": "markdown",
   "metadata": {},
   "source": [
    "#### 1. Load all the input sample data X and target values y\n",
    " (a) You can use 'loadmat' function after importing 'scipy.io' to load 'dataset.mat' \n",
    " \n",
    " (b) Please standardize X before using\n",
    "\n"
   ]
  },
  {
   "cell_type": "markdown",
   "metadata": {},
   "source": [
    "## Load data and check the shape of it"
   ]
  },
  {
   "cell_type": "code",
   "execution_count": 1,
   "metadata": {},
   "outputs": [
    {
     "output_type": "stream",
     "name": "stdout",
     "text": "(80, 60559)\n(80, 1)\n"
    }
   ],
   "source": [
    "import scipy.io as sio\n",
    "import numpy as np\n",
    "dataset = sio.loadmat(\"data/dataset.mat\")\n",
    "print(np.shape(dataset['X'].T))\n",
    "print(np.shape(dataset['y'].T))\n",
    "\n"
   ]
  },
  {
   "cell_type": "markdown",
   "metadata": {},
   "source": []
  },
  {
   "cell_type": "markdown",
   "metadata": {},
   "source": [
    "## Split train/test and check"
   ]
  },
  {
   "cell_type": "code",
   "execution_count": 2,
   "metadata": {},
   "outputs": [
    {
     "output_type": "stream",
     "name": "stdout",
     "text": "(64, 60559) (64, 1)\n(16, 60559) (16, 1)\n"
    }
   ],
   "source": [
    "from sklearn.model_selection import train_test_split\n",
    "X_train, X_test, y_train, y_test = train_test_split(dataset['X'].T, dataset['y'].T, test_size = 0.2)\n",
    "print(np.shape(X_train), np.shape(y_train))\n",
    "print(np.shape(X_test), np.shape(y_test)) "
   ]
  },
  {
   "cell_type": "markdown",
   "metadata": {},
   "source": [
    "#### 2. Perform the regression analysis based on the nested k-fold cross-validation (k=5) \n",
    " \n",
    " (a) Please evaluate the performance from the training, validation, and test data by the correlation of true and predicted values \n",
    "\n",
    " (b) Please optimize the potential hyperparameter(s) of your model to get a best performance\n"
   ]
  },
  {
   "cell_type": "markdown",
   "metadata": {},
   "source": [
    "## Pipeline for nested k-fold cv"
   ]
  },
  {
   "cell_type": "code",
   "execution_count": 3,
   "metadata": {},
   "outputs": [
    {
     "output_type": "stream",
     "name": "stdout",
     "text": "0.9969281225258522\n-0.32293721157367283\n"
    }
   ],
   "source": [
    "from sklearn.preprocessing import StandardScaler\n",
    "from sklearn.decomposition import PCA\n",
    "from sklearn.linear_model import ElasticNet\n",
    "from sklearn.model_selection import GridSearchCV, cross_val_score, KFold\n",
    "from sklearn.pipeline import Pipeline\n",
    "\n",
    "pipe_lr = Pipeline([('scl', StandardScaler()),('clf', ElasticNet(alpha=0.003))])\n",
    "\n",
    "pipe_lr.fit(X_train, y_train)\n",
    "y_pred = pipe_lr.predict(X_test)\n",
    "print(pipe_lr.score(X_train, y_train))\n",
    "print(pipe_lr.score(X_test, y_test))\n",
    "\n"
   ]
  },
  {
   "cell_type": "markdown",
   "metadata": {},
   "source": [
    "## Nested k-fold cv"
   ]
  },
  {
   "cell_type": "code",
   "execution_count": 5,
   "metadata": {},
   "outputs": [
    {
     "output_type": "stream",
     "name": "stdout",
     "text": "0\n1\n2\n[-0.19238141 -0.32705489 -0.0566172 ]\n"
    }
   ],
   "source": [
    "import numpy as np\n",
    "NUM_TRIALS = 3\n",
    "nested_scores = np.zeros(NUM_TRIALS)\n",
    "for i in range(NUM_TRIALS):\n",
    "    print(i)\n",
    "    param_range= [0.01, 0.03, 0.1, 0.3]\n",
    "    p_grid = [{},{'clf__alpha': param_range, 'clf__l1_ratio': param_range}]\n",
    "    inner_cv = KFold(n_splits=2, shuffle=True)\n",
    "    outer_cv = KFold(n_splits=3, shuffle=True)\n",
    "\n",
    "    clf = GridSearchCV(estimator=pipe_lr, param_grid=p_grid, scoring='r2', cv=inner_cv)\n",
    "    nested_score = cross_val_score(clf, X=X_train, y=y_train, cv=outer_cv, n_jobs=-1)\n",
    "    nested_scores[i] = nested_score.mean()\n",
    "print(nested_scores)\n"
   ]
  },
  {
   "cell_type": "markdown",
   "metadata": {},
   "source": [
    "## Learning  curve"
   ]
  },
  {
   "cell_type": "code",
   "execution_count": 19,
   "metadata": {},
   "outputs": [],
   "source": [
    "from sklearn.model_selection import learning_curve\n",
    "clf = GridSearchCV(estimator=pipe_lr, param_grid=p_grid, scoring='r2', cv=inner_cv)\n",
    "clf.fit(X_train, y_train)\n",
    "from sklearn.model_selection import learning_curve\n",
    "\n",
    "train_sizes, train_scores, test_scores = learning_curve(estimator=clf.best_estimator_, X=X_train, y=y_train, train_sizes=np.arange(0.1,1.1,0.1), cv=5, scoring='r2', n_jobs=-1)"
   ]
  },
  {
   "cell_type": "markdown",
   "metadata": {},
   "source": [
    "    #### Notes:\n",
    "    * For each of the folds, show learning curves (along epochs) of the cost and correlation from the training and test(or validation) data where applicable\n",
    "    * Draw plots using matplotlib\n",
    "    * Please discuss each of your results with at least few lines of text"
   ]
  },
  {
   "cell_type": "markdown",
   "metadata": {},
   "source": [
    "## Calculate mean and std for plotting"
   ]
  },
  {
   "cell_type": "code",
   "execution_count": 20,
   "metadata": {},
   "outputs": [],
   "source": [
    "train_mean = np.mean(train_scores, axis=1)\n",
    "train_std = np.std(train_scores, axis=1)\n",
    "test_mean = np.mean(test_scores, axis=1)\n",
    "test_std = np.std(test_scores, axis=1)"
   ]
  },
  {
   "cell_type": "markdown",
   "metadata": {},
   "source": [
    "## Plot"
   ]
  },
  {
   "cell_type": "code",
   "execution_count": 23,
   "metadata": {},
   "outputs": [
    {
     "output_type": "display_data",
     "data": {
      "text/plain": "<Figure size 432x288 with 1 Axes>",
      "image/png": "[encoded data removed]"
     },
     "metadata": {
      "needs_background": "light"
     }
    }
   ],
   "source": [
    "%matplotlib inline\n",
    "import matplotlib.pyplot as plt\n",
    "\n",
    "plt.plot(train_sizes, train_mean, color='blue', marker='o', markersize=5, label='training accuracy')\n",
    "plt.fill_between(train_sizes, train_mean + train_std, train_mean - train_std, alpha=0.15, color='blue')\n",
    "plt.plot(train_sizes, test_mean, color='green', linestyle='--', marker='s', markersize=5, label='validation loss')\n",
    "plt.fill_between(train_sizes, test_mean + test_std, test_mean - test_std, alpha=0.15, color='green')\n",
    "plt.grid()\n",
    "plt.xlabel('Number of training samples')\n",
    "plt.legend(loc='lower right')\n",
    "plt.tight_layout()\n",
    "plt.show()"
   ]
  },
  {
   "cell_type": "code",
   "execution_count": null,
   "metadata": {},
   "outputs": [],
   "source": []
  }
 ],
 "metadata": {
  "kernelspec": {
   "display_name": "Python 3",
   "language": "python",
   "name": "python3"
  },
  "language_info": {
   "codemirror_mode": {
    "name": "ipython",
    "version": 3
   },
   "file_extension": ".py",
   "mimetype": "text/x-python",
   "name": "python",
   "nbconvert_exporter": "python",
   "pygments_lexer": "ipython3",
   "version": "3.7.7-final"
  }
 },
 "nbformat": 4,
 "nbformat_minor": 4
}