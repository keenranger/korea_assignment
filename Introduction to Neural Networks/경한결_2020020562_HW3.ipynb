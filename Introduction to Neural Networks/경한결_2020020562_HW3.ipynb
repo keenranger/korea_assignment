{
 "cells": [
  {
   "cell_type": "markdown",
   "metadata": {},
   "source": [
    "<div style=\"text-align: right\"> Provided on May 20, Due on June 03 [BRI516, Spring/2020] </div>"
   ]
  },
  {
   "cell_type": "markdown",
   "metadata": {},
   "source": [
    "For homework in general:\n",
    "* Install `Anaconda` and create an environment with `NumPy`, `Pandas`, `Matplotlib`, `scikit-learn`,`scipy` in Python 3.5\n",
    "* Please type the equation and/or text using markdown in jupyter-lab or jupyter-notebook\n",
    "* Please upload your jupyter-notebook file for homework to `Blackboard` \n",
    "* Please discuss your results at least one line of text"
   ]
  },
  {
   "cell_type": "markdown",
   "metadata": {},
   "source": [
    "\n",
    "## [Hw#3] Regression analysis\n",
    "\n",
    "The dataset (X) provided has a very high-dimensional sample (i.e., number of dimension = 60,837) while there is a limited available number of samples (n = 80). \n",
    "\n",
    "The goal is to predict the target scores (y) from the high-dimensional input, X.\n",
    "* Note that, as you know, this problem is very prone to the so-called, curse-of-dimensionality.\n",
    "    * Thus, you would need to put some effort to optimize your model such as using regularizations\n",
    "\n",
    " \n",
    "    "
   ]
  },
  {
   "cell_type": "markdown",
   "metadata": {},
   "source": [
    "----\n",
    "\n",
    "### Now, please perform the following to solve this regression problem.\n",
    "\n",
    "* Please try out at least a few models that you learned in the class and show only the results from your best performing regression model\n",
    "\n"
   ]
  },
  {
   "cell_type": "markdown",
   "metadata": {},
   "source": [
    "#### 1. Load all the input sample data X and target values y\n",
    " (a) You can use 'loadmat' function after importing 'scipy.io' to load 'dataset.mat' \n",
    " \n",
    " (b) Please standardize X before using\n",
    "\n"
   ]
  },
  {
   "cell_type": "markdown",
   "metadata": {},
   "source": [
    "#### 2. Perform the regression analysis based on the nested k-fold cross-validation (k=5) \n",
    " \n",
    " (a) Please evaluate the performance from the training, validation, and test data by the correlation of true and predicted values \n",
    "\n",
    " (b) Please optimize the potential hyperparameter(s) of your model to get a best performance\n"
   ]
  },
  {
   "cell_type": "markdown",
   "metadata": {},
   "source": [
    " "
   ]
  },
  {
   "cell_type": "markdown",
   "metadata": {},
   "source": [
    "\n",
    "#### Notes:\n",
    "\n",
    "* For each of the folds, show learning curves (along epochs) of the cost and correlation from the training and test(or validation) data where applicable\n",
    "\n",
    "* Draw plots using matplotlib\n",
    "\n",
    "* Please discuss each of your results with at least few lines of text"
   ]
  },
  {
   "cell_type": "code",
   "execution_count": null,
   "metadata": {},
   "outputs": [],
   "source": []
  }
 ],
 "metadata": {
  "kernelspec": {
   "display_name": "Python 3",
   "language": "python",
   "name": "python3"
  },
  "language_info": {
   "codemirror_mode": {
    "name": "ipython",
    "version": 3
   },
   "file_extension": ".py",
   "mimetype": "text/x-python",
   "name": "python",
   "nbconvert_exporter": "python",
   "pygments_lexer": "ipython3",
   "version": "3.6.9"
  }
 },
 "nbformat": 4,
 "nbformat_minor": 4
}
